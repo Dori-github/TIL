{
 "cells": [
  {
   "cell_type": "markdown",
   "id": "325fe202",
   "metadata": {},
   "source": [
    "## 사전 \n",
    ": 키와 값의 형태로 이루어짐\n",
    "\n",
    "키는 중복이 되지 않음"
   ]
  },
  {
   "cell_type": "code",
   "execution_count": 8,
   "id": "4888fc30",
   "metadata": {},
   "outputs": [
    {
     "name": "stdout",
     "output_type": "stream",
     "text": [
      "유재석\n",
      "김태호\n",
      "유재석\n",
      "김태호\n",
      "None\n",
      "사용가능\n",
      "hi\n",
      "True\n",
      "False\n"
     ]
    }
   ],
   "source": [
    "cabinet = {3: \"유재석\", 100: \"김태호\"}\n",
    "\n",
    "# 값 가져오기 \n",
    "print(cabinet[3])\n",
    "print(cabinet[100])\n",
    "\n",
    "print(cabinet.get(3))\n",
    "print(cabinet.get(100))\n",
    "\n",
    "# 값이 없을 경우 에러 출력\n",
    "# print(cabinet[5])\n",
    "# print(\"hi\")\n",
    "\n",
    "print(cabinet.get(5)) #None \n",
    "print(cabinet.get(5, \"사용가능\")) \n",
    "print(\"hi\")\n",
    "\n",
    "#값이 있는지 확인하기 \n",
    "print(3 in cabinet) #True \n",
    "print(5 in cabinet) #False \n"
   ]
  },
  {
   "cell_type": "code",
   "execution_count": 15,
   "id": "e972a10c",
   "metadata": {},
   "outputs": [
    {
     "name": "stdout",
     "output_type": "stream",
     "text": [
      "{'A-3': '유재석', 'B-100': '김태호'}\n",
      "{'A-3': '김종국', 'B-100': '김태호', 'C-20': '조세호'}\n",
      "{'B-100': '김태호', 'C-20': '조세호'}\n",
      "dict_keys(['B-100', 'C-20'])\n",
      "dict_values(['김태호', '조세호'])\n",
      "dict_items([('B-100', '김태호'), ('C-20', '조세호')])\n",
      "{}\n"
     ]
    }
   ],
   "source": [
    "cabinet = {\"A-3\": \"유재석\", \"B-100\" : \"김태호\"}\n",
    "\n",
    "#새 손님\n",
    "print(cabinet)\n",
    "cabinet[\"A-3\"] =\"김종국\" #값을 업데이트 \n",
    "cabinet[\"C-20\"] =\"조세호\" #값추가 \n",
    "print(cabinet)\n",
    "\n",
    "#간 손님\n",
    "del cabinet[\"A-3\"]\n",
    "print(cabinet)\n",
    "\n",
    "#key 들만 출력 \n",
    "print(cabinet.keys())\n",
    "\n",
    "#value 들만 출력\n",
    "print(cabinet.values())\n",
    "\n",
    "#key, value 쌍으로 출력 \n",
    "print(cabinet.items())\n",
    "\n",
    "#목욕탕 폐점\n",
    "cabinet.clear()\n",
    "print(cabinet)"
   ]
  },
  {
   "cell_type": "markdown",
   "id": "ccae632a",
   "metadata": {},
   "source": [
    "## 튜플 \n",
    " 내용의 변경이나 추가를 할 수 없음 "
   ]
  },
  {
   "cell_type": "code",
   "execution_count": 20,
   "id": "a1aeceac",
   "metadata": {},
   "outputs": [
    {
     "name": "stdout",
     "output_type": "stream",
     "text": [
      "돈까스\n",
      "치즈까스\n",
      "김종국 20 코딩\n"
     ]
    }
   ],
   "source": [
    "menu = (\"돈까스\", \"치즈까스\")\n",
    "print(menu[0])\n",
    "print(menu[1])\n",
    "\n",
    "# menu.add(\"생선까스\") 추가 변경 불가\n",
    "\n",
    "# name = \"김종국\"\n",
    "# age = 20\n",
    "# hobby = \"코딩\"\n",
    "# print(name, age, hobby)\n",
    "\n",
    "# 한번에 값 선언 가능\n",
    "(name, age, hobby) = (\"김종국\", 20, \"코딩\")\n",
    "print(name, age, hobby)"
   ]
  },
  {
   "cell_type": "markdown",
   "id": "8692c71c",
   "metadata": {},
   "source": [
    "## 집합 (set)\n",
    "\n",
    "중복 안됨, 순서 없음\n"
   ]
  },
  {
   "cell_type": "code",
   "execution_count": 28,
   "id": "fbbdb7da",
   "metadata": {},
   "outputs": [
    {
     "name": "stdout",
     "output_type": "stream",
     "text": [
      "{1, 2, 3}\n",
      "{'유재석'}\n",
      "{'유재석'}\n",
      "{'유재석', '김태호', '양세형', '박명수'}\n",
      "{'유재석', '김태호', '양세형', '박명수'}\n",
      "{'양세형', '김태호'}\n",
      "{'양세형', '김태호'}\n",
      "{'유재석', '김태호', '박명수'}\n",
      "{'유재석', '양세형'}\n"
     ]
    }
   ],
   "source": [
    "my_set = {1,2,3,3,3}\n",
    "print(my_set)\n",
    "\n",
    "java = {\"유재석\", \"김태호\", \"양세형\"}\n",
    "python = set([\"유재석\", \"박명수\"])\n",
    "\n",
    "#교집합 (java 와 python을 모두 할 수 있는 사람)\n",
    "print(java & python)\n",
    "print(java.intersection(python))\n",
    "\n",
    "#합집합 (java 할 수 있거나 python 할 수 있는 개발자)\n",
    "print(java | python)\n",
    "print(java.union(python))\n",
    "\n",
    "#차집합 (java 할 수 있지만 python은 할 줄 모르는 개발자)\n",
    "print(java - python)\n",
    "print(java.difference(python))\n",
    "\n",
    "#python 할 줄 아는 사람이 늘어남\n",
    "python.add(\"김태호\")\n",
    "print(python)\n",
    "\n",
    "#java를 잊었어요\n",
    "java.remove(\"김태호\")\n",
    "print(java)"
   ]
  },
  {
   "cell_type": "markdown",
   "id": "61471f59",
   "metadata": {},
   "source": [
    "## 자료구조의 변경\n"
   ]
  },
  {
   "cell_type": "code",
   "execution_count": 34,
   "id": "629313f5",
   "metadata": {},
   "outputs": [
    {
     "name": "stdout",
     "output_type": "stream",
     "text": [
      "{'커피', '주스', '우유'} <class 'set'>\n",
      "['커피', '주스', '우유'] <class 'list'>\n",
      "('커피', '주스', '우유') <class 'tuple'>\n",
      "{'커피', '우유', '주스'} <class 'set'>\n"
     ]
    }
   ],
   "source": [
    "#커피숍\n",
    "menu = {\"커피\", \"우유\", \"주스\"}\n",
    "print(menu,type(menu))\n",
    "\n",
    "menu = list(menu)\n",
    "print(menu,type(menu))\n",
    "\n",
    "menu = tuple(menu)\n",
    "print(menu,type(menu))\n",
    "\n",
    "menu = set(menu)\n",
    "print(menu, type(menu))"
   ]
  },
  {
   "cell_type": "markdown",
   "id": "b1e460fa",
   "metadata": {},
   "source": [
    "# if"
   ]
  },
  {
   "cell_type": "code",
   "execution_count": 27,
   "id": "5475b382",
   "metadata": {},
   "outputs": [
    {
     "name": "stdout",
     "output_type": "stream",
     "text": [
      "오늘 날씨는 어때요? 눈\n",
      "우산을 챙기세요\n"
     ]
    }
   ],
   "source": [
    "weather = input(\"오늘 날씨는 어때요? \")\n",
    "if weather == \"비\" or weather == \"눈\" :\n",
    "    print(\"우산을 챙기세요\")\n",
    "elif weather == \"미세먼지\":\n",
    "    print(\"마스크를 챙기세요\")\n",
    "else:\n",
    "    print(\"준비물 필요 없어요\")"
   ]
  },
  {
   "cell_type": "code",
   "execution_count": 28,
   "id": "15ede8b1",
   "metadata": {},
   "outputs": [
    {
     "name": "stdout",
     "output_type": "stream",
     "text": [
      "기온은 어때요?20\n",
      "괜찮은 날씨에요\n"
     ]
    }
   ],
   "source": [
    "temp = int(input(\"기온은 어때요?\")) #정수값으로 변환하여 temp 에 저장\n",
    "if 30 <= temp :\n",
    "    print(\"너무 더워요. 나가지마세요\")\n",
    "elif 10 <= temp and temp < 30 :\n",
    "    print(\"괜찮은 날씨에요\")\n",
    "elif 0 <=  temp < 10:\n",
    "    print(\"외투를 챙기세요\")\n",
    "else:\n",
    "    print(\"너무 추워요. 나가지 마세요\")"
   ]
  },
  {
   "cell_type": "markdown",
   "id": "0783c875",
   "metadata": {},
   "source": [
    "## for "
   ]
  },
  {
   "cell_type": "code",
   "execution_count": 32,
   "id": "9a34b430",
   "metadata": {},
   "outputs": [
    {
     "name": "stdout",
     "output_type": "stream",
     "text": [
      "대기번호 : 1\n",
      "대기번호 : 2\n",
      "대기번호 : 3\n",
      "대기번호 : 4\n",
      "대기번호 : 5\n"
     ]
    }
   ],
   "source": [
    "#randrange()\n",
    "for waiting_no in range(1,6) : # 1,2,3,4,5\n",
    "    print(\"대기번호 : {0}\".format(waiting_no))"
   ]
  },
  {
   "cell_type": "code",
   "execution_count": 34,
   "id": "a91d9040",
   "metadata": {},
   "outputs": [
    {
     "name": "stdout",
     "output_type": "stream",
     "text": [
      "아이언맨, 커피가 준비되었습니다.\n",
      "토르, 커피가 준비되었습니다.\n",
      "아이엠 그루트, 커피가 준비되었습니다.\n"
     ]
    }
   ],
   "source": [
    "starbucks = [\"아이언맨\", \"토르\", \"아이엠 그루트\"]\n",
    "for customer in starbucks :\n",
    "    print(\"{0}, 커피가 준비되었습니다.\".format(customer))"
   ]
  },
  {
   "cell_type": "markdown",
   "id": "1544947a",
   "metadata": {},
   "source": [
    "## while "
   ]
  },
  {
   "cell_type": "code",
   "execution_count": 1,
   "id": "eb783e0e",
   "metadata": {
    "scrolled": true
   },
   "outputs": [
    {
     "name": "stdout",
     "output_type": "stream",
     "text": [
      "토르, 커피가 준비 되었습니다. 5 번 남았어요\n",
      "토르, 커피가 준비 되었습니다. 4 번 남았어요\n",
      "토르, 커피가 준비 되었습니다. 3 번 남았어요\n",
      "토르, 커피가 준비 되었습니다. 2 번 남았어요\n",
      "토르, 커피가 준비 되었습니다. 1 번 남았어요\n",
      "커피는 폐기처분되었습니다. \n"
     ]
    }
   ],
   "source": [
    "customer = \"토르\"\n",
    "index = 5\n",
    "while index >= 1:\n",
    "    print(\"{0}, 커피가 준비 되었습니다. {1} 번 남았어요\".format(customer, index))\n",
    "    index -=1\n",
    "    if index == 0:\n",
    "        print(\"커피는 폐기처분되었습니다. \")\n",
    "        \n",
    "# 무한루프\n",
    "# customer = \"아이언맨\"\n",
    "# index = 1\n",
    "# while True :\n",
    "    #print(\"{0}, 커피가 준비되었습니다. 호출{1} 회\".format(customer,index))\n",
    "    #index +=1\n",
    "    "
   ]
  },
  {
   "cell_type": "code",
   "execution_count": 3,
   "id": "4028dfd0",
   "metadata": {},
   "outputs": [
    {
     "name": "stdout",
     "output_type": "stream",
     "text": [
      "토르, 커피가 준비되었습니다.\n",
      "이름이 어떻게 되세요?아이언맨\n",
      "토르, 커피가 준비되었습니다.\n",
      "이름이 어떻게 되세요?토르\n"
     ]
    }
   ],
   "source": [
    "customer = \"토르\"\n",
    "person = \"Unknown\"\n",
    "\n",
    "while person != customer : #내가 원하는 손님이 올때까지 반복 \n",
    "    print (\"{0}, 커피가 준비되었습니다.\".format(customer))\n",
    "    person = input(\"이름이 어떻게 되세요?\")"
   ]
  },
  {
   "cell_type": "markdown",
   "id": "cf771ccc",
   "metadata": {},
   "source": [
    "## continue 와 break\n",
    "\n",
    "continue : 없는 것들은 skip 하고 반복문을 진행.  \n",
    "break : continue 와 다르게 반복문을 종료하고 끝냄."
   ]
  },
  {
   "cell_type": "code",
   "execution_count": 5,
   "id": "6545cc6d",
   "metadata": {},
   "outputs": [
    {
     "name": "stdout",
     "output_type": "stream",
     "text": [
      "1, 책을 읽어봐\n",
      "3, 책을 읽어봐\n",
      "4, 책을 읽어봐\n",
      "6, 책을 읽어봐\n",
      "7, 책을 읽어봐\n",
      "8, 책을 읽어봐\n",
      "9, 책을 읽어봐\n",
      "10, 책을 읽어봐\n"
     ]
    }
   ],
   "source": [
    "absent = [2, 5] #결석\n",
    "for student in range(1,11): #1,2,3,4,5,6,7,8,9,10\n",
    "    if student in absent :\n",
    "        continue \n",
    "    print(\"{0}, 책을 읽어봐\".format(student))\n"
   ]
  },
  {
   "cell_type": "code",
   "execution_count": 7,
   "id": "e05e6761",
   "metadata": {},
   "outputs": [
    {
     "name": "stdout",
     "output_type": "stream",
     "text": [
      "1, 책을 읽어봐\n",
      "3, 책을 읽어봐\n",
      "4, 책을 읽어봐\n",
      "6, 책을 읽어봐\n",
      "오늘 수업 여기까지. 7는 교무실로 따라와\n"
     ]
    }
   ],
   "source": [
    "asbsent = [2, 5]\n",
    "no_book = [7]\n",
    "for student in range(1,11): \n",
    "    if student in absent:\n",
    "        continue \n",
    "    elif student in no_book:\n",
    "        print(\"오늘 수업 여기까지. {0}는 교무실로 따라와\".format(student))\n",
    "        break\n",
    "    print(\"{0}, 책을 읽어봐\".format(student))"
   ]
  },
  {
   "cell_type": "markdown",
   "id": "df63a214",
   "metadata": {},
   "source": [
    "## 한줄 for"
   ]
  },
  {
   "cell_type": "code",
   "execution_count": 8,
   "id": "3da80171",
   "metadata": {},
   "outputs": [
    {
     "name": "stdout",
     "output_type": "stream",
     "text": [
      "[1, 2, 3, 4]\n",
      "[101, 102, 103, 104]\n"
     ]
    }
   ],
   "source": [
    "# 출석번호가 1 2 3 4 , 앞에 100을 붙이기로함 -> 101, 102, 103, 104\n",
    "students = [1, 2, 3, 4]\n",
    "print(students)\n",
    "students = [i+100 for i in students]\n",
    "print(students)"
   ]
  },
  {
   "cell_type": "code",
   "execution_count": 9,
   "id": "61457bc0",
   "metadata": {},
   "outputs": [
    {
     "name": "stdout",
     "output_type": "stream",
     "text": [
      "['Iron man', 'Thor', 'I am groot']\n",
      "[8, 4, 10]\n"
     ]
    }
   ],
   "source": [
    "# 학생 이름을 길이로 변환\n",
    "students =[\"Iron man\", \"Thor\", \"I am groot\"]\n",
    "print(students)\n",
    "students = [len(i) for i in students]\n",
    "print(students)"
   ]
  },
  {
   "cell_type": "code",
   "execution_count": 10,
   "id": "5fec95a8",
   "metadata": {
    "scrolled": true
   },
   "outputs": [
    {
     "name": "stdout",
     "output_type": "stream",
     "text": [
      "['Iron man', 'Thor', 'I am groot']\n",
      "['IRON MAN', 'THOR', 'I AM GROOT']\n"
     ]
    }
   ],
   "source": [
    "# 학생 이름을 대문자로 변환 \n",
    "students =[\"Iron man\", \"Thor\", \"I am groot\"]\n",
    "print(students)\n",
    "students = [i.upper() for i in students]\n",
    "print(students)"
   ]
  }
 ],
 "metadata": {
  "kernelspec": {
   "display_name": "Python 3",
   "language": "python",
   "name": "python3"
  },
  "language_info": {
   "codemirror_mode": {
    "name": "ipython",
    "version": 3
   },
   "file_extension": ".py",
   "mimetype": "text/x-python",
   "name": "python",
   "nbconvert_exporter": "python",
   "pygments_lexer": "ipython3",
   "version": "3.8.8"
  }
 },
 "nbformat": 4,
 "nbformat_minor": 5
}
