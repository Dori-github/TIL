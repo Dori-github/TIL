{
 "cells": [
  {
   "cell_type": "markdown",
   "id": "15742834",
   "metadata": {},
   "source": [
    "# Pandas Tutorial(3)"
   ]
  },
  {
   "cell_type": "markdown",
   "id": "186935c1",
   "metadata": {},
   "source": [
    "https://github.com/adeshpande3/Pandas-Tutorial/blob/master/Pandas%20Tutorial.ipynb 의 자료를 기반으로 작성함."
   ]
  },
  {
   "cell_type": "code",
   "execution_count": 56,
   "id": "097b4ea1",
   "metadata": {},
   "outputs": [],
   "source": [
    "import pandas as pd"
   ]
  },
  {
   "cell_type": "code",
   "execution_count": 113,
   "id": "dc2b1401",
   "metadata": {},
   "outputs": [],
   "source": [
    "import numpy as np"
   ]
  },
  {
   "cell_type": "markdown",
   "id": "14527527",
   "metadata": {},
   "source": [
    "**Example CSV file** : Crime Records( The Sacramento crime January 2006 file contains 7,584 crime records, as made available by the Sacramento Police Department. Law enforcement agencies should enjoy working with this dataset.)\n",
    "\n",
    "\n",
    "\n",
    "출처 : https://support.spatialkey.com/spatialkey-sample-csv-data/"
   ]
  },
  {
   "cell_type": "code",
   "execution_count": 4,
   "id": "b4e0d852",
   "metadata": {},
   "outputs": [],
   "source": [
    "df = pd.read_csv('SacramentocrimeJanuary2006.csv')"
   ]
  },
  {
   "cell_type": "code",
   "execution_count": 5,
   "id": "a58afff6",
   "metadata": {
    "scrolled": false
   },
   "outputs": [
    {
     "data": {
      "text/html": [
       "<div>\n",
       "<style scoped>\n",
       "    .dataframe tbody tr th:only-of-type {\n",
       "        vertical-align: middle;\n",
       "    }\n",
       "\n",
       "    .dataframe tbody tr th {\n",
       "        vertical-align: top;\n",
       "    }\n",
       "\n",
       "    .dataframe thead th {\n",
       "        text-align: right;\n",
       "    }\n",
       "</style>\n",
       "<table border=\"1\" class=\"dataframe\">\n",
       "  <thead>\n",
       "    <tr style=\"text-align: right;\">\n",
       "      <th></th>\n",
       "      <th>cdatetime</th>\n",
       "      <th>address</th>\n",
       "      <th>district</th>\n",
       "      <th>beat</th>\n",
       "      <th>grid</th>\n",
       "      <th>crimedescr</th>\n",
       "      <th>ucr_ncic_code</th>\n",
       "      <th>latitude</th>\n",
       "      <th>longitude</th>\n",
       "    </tr>\n",
       "  </thead>\n",
       "  <tbody>\n",
       "    <tr>\n",
       "      <th>0</th>\n",
       "      <td>1/1/06 0:00</td>\n",
       "      <td>3108 OCCIDENTAL DR</td>\n",
       "      <td>3</td>\n",
       "      <td>3C</td>\n",
       "      <td>1115</td>\n",
       "      <td>10851(A)VC TAKE VEH W/O OWNER</td>\n",
       "      <td>2404</td>\n",
       "      <td>38.550420</td>\n",
       "      <td>-121.391416</td>\n",
       "    </tr>\n",
       "    <tr>\n",
       "      <th>1</th>\n",
       "      <td>1/1/06 0:00</td>\n",
       "      <td>2082 EXPEDITION WAY</td>\n",
       "      <td>5</td>\n",
       "      <td>5A</td>\n",
       "      <td>1512</td>\n",
       "      <td>459 PC  BURGLARY RESIDENCE</td>\n",
       "      <td>2204</td>\n",
       "      <td>38.473501</td>\n",
       "      <td>-121.490186</td>\n",
       "    </tr>\n",
       "    <tr>\n",
       "      <th>2</th>\n",
       "      <td>1/1/06 0:00</td>\n",
       "      <td>4 PALEN CT</td>\n",
       "      <td>2</td>\n",
       "      <td>2A</td>\n",
       "      <td>212</td>\n",
       "      <td>10851(A)VC TAKE VEH W/O OWNER</td>\n",
       "      <td>2404</td>\n",
       "      <td>38.657846</td>\n",
       "      <td>-121.462101</td>\n",
       "    </tr>\n",
       "    <tr>\n",
       "      <th>3</th>\n",
       "      <td>1/1/06 0:00</td>\n",
       "      <td>22 BECKFORD CT</td>\n",
       "      <td>6</td>\n",
       "      <td>6C</td>\n",
       "      <td>1443</td>\n",
       "      <td>476 PC PASS FICTICIOUS CHECK</td>\n",
       "      <td>2501</td>\n",
       "      <td>38.506774</td>\n",
       "      <td>-121.426951</td>\n",
       "    </tr>\n",
       "    <tr>\n",
       "      <th>4</th>\n",
       "      <td>1/1/06 0:00</td>\n",
       "      <td>3421 AUBURN BLVD</td>\n",
       "      <td>2</td>\n",
       "      <td>2A</td>\n",
       "      <td>508</td>\n",
       "      <td>459 PC  BURGLARY-UNSPECIFIED</td>\n",
       "      <td>2299</td>\n",
       "      <td>38.637448</td>\n",
       "      <td>-121.384613</td>\n",
       "    </tr>\n",
       "  </tbody>\n",
       "</table>\n",
       "</div>"
      ],
      "text/plain": [
       "     cdatetime              address  district        beat  grid  \\\n",
       "0  1/1/06 0:00   3108 OCCIDENTAL DR         3  3C          1115   \n",
       "1  1/1/06 0:00  2082 EXPEDITION WAY         5  5A          1512   \n",
       "2  1/1/06 0:00           4 PALEN CT         2  2A           212   \n",
       "3  1/1/06 0:00       22 BECKFORD CT         6  6C          1443   \n",
       "4  1/1/06 0:00     3421 AUBURN BLVD         2  2A           508   \n",
       "\n",
       "                      crimedescr  ucr_ncic_code   latitude   longitude  \n",
       "0  10851(A)VC TAKE VEH W/O OWNER           2404  38.550420 -121.391416  \n",
       "1     459 PC  BURGLARY RESIDENCE           2204  38.473501 -121.490186  \n",
       "2  10851(A)VC TAKE VEH W/O OWNER           2404  38.657846 -121.462101  \n",
       "3   476 PC PASS FICTICIOUS CHECK           2501  38.506774 -121.426951  \n",
       "4   459 PC  BURGLARY-UNSPECIFIED           2299  38.637448 -121.384613  "
      ]
     },
     "execution_count": 5,
     "metadata": {},
     "output_type": "execute_result"
    }
   ],
   "source": [
    "df.head() "
   ]
  },
  {
   "cell_type": "code",
   "execution_count": 6,
   "id": "423123b5",
   "metadata": {},
   "outputs": [
    {
     "data": {
      "text/plain": [
       "['cdatetime',\n",
       " 'address',\n",
       " 'district',\n",
       " 'beat',\n",
       " 'grid',\n",
       " 'crimedescr',\n",
       " 'ucr_ncic_code',\n",
       " 'latitude',\n",
       " 'longitude']"
      ]
     },
     "execution_count": 6,
     "metadata": {},
     "output_type": "execute_result"
    }
   ],
   "source": [
    "df.columns.tolist()"
   ]
  },
  {
   "cell_type": "markdown",
   "id": "a53f66a3",
   "metadata": {},
   "source": [
    "## 정렬(Sorting)"
   ]
  },
  {
   "cell_type": "markdown",
   "id": "f0c5f977",
   "metadata": {},
   "source": [
    "낮은 district에 따라 오름차순으로 정렬하고 싶다면 `sort_values()` 함수를 사용한다."
   ]
  },
  {
   "cell_type": "code",
   "execution_count": 8,
   "id": "c48fa212",
   "metadata": {},
   "outputs": [
    {
     "data": {
      "text/html": [
       "<div>\n",
       "<style scoped>\n",
       "    .dataframe tbody tr th:only-of-type {\n",
       "        vertical-align: middle;\n",
       "    }\n",
       "\n",
       "    .dataframe tbody tr th {\n",
       "        vertical-align: top;\n",
       "    }\n",
       "\n",
       "    .dataframe thead th {\n",
       "        text-align: right;\n",
       "    }\n",
       "</style>\n",
       "<table border=\"1\" class=\"dataframe\">\n",
       "  <thead>\n",
       "    <tr style=\"text-align: right;\">\n",
       "      <th></th>\n",
       "      <th>cdatetime</th>\n",
       "      <th>address</th>\n",
       "      <th>district</th>\n",
       "      <th>beat</th>\n",
       "      <th>grid</th>\n",
       "      <th>crimedescr</th>\n",
       "      <th>ucr_ncic_code</th>\n",
       "      <th>latitude</th>\n",
       "      <th>longitude</th>\n",
       "    </tr>\n",
       "  </thead>\n",
       "  <tbody>\n",
       "    <tr>\n",
       "      <th>3108</th>\n",
       "      <td>1/13/06 18:00</td>\n",
       "      <td>3264 RAMONA AVE</td>\n",
       "      <td>6</td>\n",
       "      <td>6C</td>\n",
       "      <td>1113</td>\n",
       "      <td>10851(A)VC TAKE VEH W/O OWNER</td>\n",
       "      <td>2404</td>\n",
       "      <td>38.545224</td>\n",
       "      <td>-121.415719</td>\n",
       "    </tr>\n",
       "    <tr>\n",
       "      <th>3105</th>\n",
       "      <td>1/13/06 18:00</td>\n",
       "      <td>15 CARTHAGE CT</td>\n",
       "      <td>6</td>\n",
       "      <td>6C</td>\n",
       "      <td>1443</td>\n",
       "      <td>MISSING PERSON</td>\n",
       "      <td>7000</td>\n",
       "      <td>38.505769</td>\n",
       "      <td>-121.418114</td>\n",
       "    </tr>\n",
       "    <tr>\n",
       "      <th>6430</th>\n",
       "      <td>1/27/06 9:45</td>\n",
       "      <td>8151 POWER RIDGE RD</td>\n",
       "      <td>6</td>\n",
       "      <td>6C</td>\n",
       "      <td>1145</td>\n",
       "      <td>10851 VC AUTO THEFT LOCATE</td>\n",
       "      <td>2404</td>\n",
       "      <td>38.531579</td>\n",
       "      <td>-121.407542</td>\n",
       "    </tr>\n",
       "    <tr>\n",
       "      <th>1553</th>\n",
       "      <td>1/7/06 16:10</td>\n",
       "      <td>3946 2ND AVE</td>\n",
       "      <td>6</td>\n",
       "      <td>6A</td>\n",
       "      <td>1014</td>\n",
       "      <td>459 PC  BURGLARY RESIDENCE</td>\n",
       "      <td>2204</td>\n",
       "      <td>38.550676</td>\n",
       "      <td>-121.461860</td>\n",
       "    </tr>\n",
       "    <tr>\n",
       "      <th>3791</th>\n",
       "      <td>1/16/06 22:00</td>\n",
       "      <td>5961 13TH AVE</td>\n",
       "      <td>6</td>\n",
       "      <td>6B</td>\n",
       "      <td>1056</td>\n",
       "      <td>459 PC  BURGLARY VEHICLE</td>\n",
       "      <td>2299</td>\n",
       "      <td>38.540424</td>\n",
       "      <td>-121.436177</td>\n",
       "    </tr>\n",
       "  </tbody>\n",
       "</table>\n",
       "</div>"
      ],
      "text/plain": [
       "          cdatetime              address  district        beat  grid  \\\n",
       "3108  1/13/06 18:00      3264 RAMONA AVE         6  6C          1113   \n",
       "3105  1/13/06 18:00       15 CARTHAGE CT         6  6C          1443   \n",
       "6430   1/27/06 9:45  8151 POWER RIDGE RD         6  6C          1145   \n",
       "1553   1/7/06 16:10         3946 2ND AVE         6  6A          1014   \n",
       "3791  1/16/06 22:00        5961 13TH AVE         6  6B          1056   \n",
       "\n",
       "                         crimedescr  ucr_ncic_code   latitude   longitude  \n",
       "3108  10851(A)VC TAKE VEH W/O OWNER           2404  38.545224 -121.415719  \n",
       "3105                 MISSING PERSON           7000  38.505769 -121.418114  \n",
       "6430     10851 VC AUTO THEFT LOCATE           2404  38.531579 -121.407542  \n",
       "1553     459 PC  BURGLARY RESIDENCE           2204  38.550676 -121.461860  \n",
       "3791       459 PC  BURGLARY VEHICLE           2299  38.540424 -121.436177  "
      ]
     },
     "execution_count": 8,
     "metadata": {},
     "output_type": "execute_result"
    }
   ],
   "source": [
    "df.sort_values('district').tail()"
   ]
  },
  {
   "cell_type": "markdown",
   "id": "830c0c72",
   "metadata": {},
   "source": [
    "## 조건에 따라 행 추출"
   ]
  },
  {
   "cell_type": "markdown",
   "id": "58df6994",
   "metadata": {},
   "source": [
    "district 수가 3보다 큰 행만 추출하기 위한 두 단계\n",
    "    1. 먼저 df['district'] >3 은 각 행에 대해 district가 3보다 큰 지의 여부를 True/False Series로 반환한다.  \n",
    "    2. 이 Series 를 이용하여 df를 다음과 같이 인덱싱하면 시리즈에서 True인 행만 추출 할 수 있다  \n",
    "    : **df[df['Wscore'] > 3].**"
   ]
  },
  {
   "cell_type": "code",
   "execution_count": 15,
   "id": "c2da8e35",
   "metadata": {},
   "outputs": [
    {
     "name": "stdout",
     "output_type": "stream",
     "text": [
      "<class 'pandas.core.series.Series'>\n"
     ]
    },
    {
     "data": {
      "text/plain": [
       "0    False\n",
       "1     True\n",
       "2    False\n",
       "3     True\n",
       "4    False\n",
       "Name: district, dtype: bool"
      ]
     },
     "execution_count": 15,
     "metadata": {},
     "output_type": "execute_result"
    }
   ],
   "source": [
    "print(type(df['district']> 3)) # True/False 시리즈로 반환되는지 확인\n",
    "(df['district'] > 3).head()# 시리즈의 앞부분을 확인"
   ]
  },
  {
   "cell_type": "code",
   "execution_count": 10,
   "id": "7b2f9acd",
   "metadata": {
    "scrolled": false
   },
   "outputs": [
    {
     "data": {
      "text/html": [
       "<div>\n",
       "<style scoped>\n",
       "    .dataframe tbody tr th:only-of-type {\n",
       "        vertical-align: middle;\n",
       "    }\n",
       "\n",
       "    .dataframe tbody tr th {\n",
       "        vertical-align: top;\n",
       "    }\n",
       "\n",
       "    .dataframe thead th {\n",
       "        text-align: right;\n",
       "    }\n",
       "</style>\n",
       "<table border=\"1\" class=\"dataframe\">\n",
       "  <thead>\n",
       "    <tr style=\"text-align: right;\">\n",
       "      <th></th>\n",
       "      <th>cdatetime</th>\n",
       "      <th>address</th>\n",
       "      <th>district</th>\n",
       "      <th>beat</th>\n",
       "      <th>grid</th>\n",
       "      <th>crimedescr</th>\n",
       "      <th>ucr_ncic_code</th>\n",
       "      <th>latitude</th>\n",
       "      <th>longitude</th>\n",
       "    </tr>\n",
       "  </thead>\n",
       "  <tbody>\n",
       "    <tr>\n",
       "      <th>1</th>\n",
       "      <td>1/1/06 0:00</td>\n",
       "      <td>2082 EXPEDITION WAY</td>\n",
       "      <td>5</td>\n",
       "      <td>5A</td>\n",
       "      <td>1512</td>\n",
       "      <td>459 PC  BURGLARY RESIDENCE</td>\n",
       "      <td>2204</td>\n",
       "      <td>38.473501</td>\n",
       "      <td>-121.490186</td>\n",
       "    </tr>\n",
       "    <tr>\n",
       "      <th>3</th>\n",
       "      <td>1/1/06 0:00</td>\n",
       "      <td>22 BECKFORD CT</td>\n",
       "      <td>6</td>\n",
       "      <td>6C</td>\n",
       "      <td>1443</td>\n",
       "      <td>476 PC PASS FICTICIOUS CHECK</td>\n",
       "      <td>2501</td>\n",
       "      <td>38.506774</td>\n",
       "      <td>-121.426951</td>\n",
       "    </tr>\n",
       "    <tr>\n",
       "      <th>5</th>\n",
       "      <td>1/1/06 0:00</td>\n",
       "      <td>5301 BONNIEMAE WAY</td>\n",
       "      <td>6</td>\n",
       "      <td>6B</td>\n",
       "      <td>1084</td>\n",
       "      <td>530.5 PC USE PERSONAL ID INFO</td>\n",
       "      <td>2604</td>\n",
       "      <td>38.526979</td>\n",
       "      <td>-121.451338</td>\n",
       "    </tr>\n",
       "    <tr>\n",
       "      <th>6</th>\n",
       "      <td>1/1/06 0:00</td>\n",
       "      <td>2217 16TH AVE</td>\n",
       "      <td>4</td>\n",
       "      <td>4A</td>\n",
       "      <td>957</td>\n",
       "      <td>459 PC  BURGLARY VEHICLE</td>\n",
       "      <td>2299</td>\n",
       "      <td>38.537173</td>\n",
       "      <td>-121.487577</td>\n",
       "    </tr>\n",
       "    <tr>\n",
       "      <th>10</th>\n",
       "      <td>1/1/06 0:00</td>\n",
       "      <td>2315 STOCKTON BLVD</td>\n",
       "      <td>6</td>\n",
       "      <td>6B</td>\n",
       "      <td>1005</td>\n",
       "      <td>ASSAULT WITH WEAPON - I RPT</td>\n",
       "      <td>7000</td>\n",
       "      <td>38.554264</td>\n",
       "      <td>-121.454605</td>\n",
       "    </tr>\n",
       "  </tbody>\n",
       "</table>\n",
       "</div>"
      ],
      "text/plain": [
       "      cdatetime              address  district        beat  grid  \\\n",
       "1   1/1/06 0:00  2082 EXPEDITION WAY         5  5A          1512   \n",
       "3   1/1/06 0:00       22 BECKFORD CT         6  6C          1443   \n",
       "5   1/1/06 0:00   5301 BONNIEMAE WAY         6  6B          1084   \n",
       "6   1/1/06 0:00        2217 16TH AVE         4  4A           957   \n",
       "10  1/1/06 0:00   2315 STOCKTON BLVD         6  6B          1005   \n",
       "\n",
       "                       crimedescr  ucr_ncic_code   latitude   longitude  \n",
       "1      459 PC  BURGLARY RESIDENCE           2204  38.473501 -121.490186  \n",
       "3    476 PC PASS FICTICIOUS CHECK           2501  38.506774 -121.426951  \n",
       "5   530.5 PC USE PERSONAL ID INFO           2604  38.526979 -121.451338  \n",
       "6        459 PC  BURGLARY VEHICLE           2299  38.537173 -121.487577  \n",
       "10    ASSAULT WITH WEAPON - I RPT           7000  38.554264 -121.454605  "
      ]
     },
     "execution_count": 10,
     "metadata": {},
     "output_type": "execute_result"
    }
   ],
   "source": [
    "df[df['district'] > 3].head() # Boolean Series를 이용해 조건이 True인 행들만 추출"
   ]
  },
  {
   "cell_type": "markdown",
   "id": "8c3af75f",
   "metadata": {},
   "source": [
    "아래와 같이 두 가지 이상의 조건을 부여할 수 있다."
   ]
  },
  {
   "cell_type": "code",
   "execution_count": 42,
   "id": "71df4216",
   "metadata": {},
   "outputs": [
    {
     "data": {
      "text/html": [
       "<div>\n",
       "<style scoped>\n",
       "    .dataframe tbody tr th:only-of-type {\n",
       "        vertical-align: middle;\n",
       "    }\n",
       "\n",
       "    .dataframe tbody tr th {\n",
       "        vertical-align: top;\n",
       "    }\n",
       "\n",
       "    .dataframe thead th {\n",
       "        text-align: right;\n",
       "    }\n",
       "</style>\n",
       "<table border=\"1\" class=\"dataframe\">\n",
       "  <thead>\n",
       "    <tr style=\"text-align: right;\">\n",
       "      <th></th>\n",
       "      <th>cdatetime</th>\n",
       "      <th>address</th>\n",
       "      <th>district</th>\n",
       "      <th>beat</th>\n",
       "      <th>grid</th>\n",
       "      <th>crimedescr</th>\n",
       "      <th>ucr_ncic_code</th>\n",
       "      <th>latitude</th>\n",
       "      <th>longitude</th>\n",
       "    </tr>\n",
       "  </thead>\n",
       "  <tbody>\n",
       "    <tr>\n",
       "      <th>5</th>\n",
       "      <td>1/1/06 0:00</td>\n",
       "      <td>5301 BONNIEMAE WAY</td>\n",
       "      <td>6</td>\n",
       "      <td>6B</td>\n",
       "      <td>1084</td>\n",
       "      <td>530.5 PC USE PERSONAL ID INFO</td>\n",
       "      <td>2604</td>\n",
       "      <td>38.526979</td>\n",
       "      <td>-121.451338</td>\n",
       "    </tr>\n",
       "    <tr>\n",
       "      <th>10</th>\n",
       "      <td>1/1/06 0:00</td>\n",
       "      <td>2315 STOCKTON BLVD</td>\n",
       "      <td>6</td>\n",
       "      <td>6B</td>\n",
       "      <td>1005</td>\n",
       "      <td>ASSAULT WITH WEAPON - I RPT</td>\n",
       "      <td>7000</td>\n",
       "      <td>38.554264</td>\n",
       "      <td>-121.454605</td>\n",
       "    </tr>\n",
       "    <tr>\n",
       "      <th>11</th>\n",
       "      <td>1/1/06 0:00</td>\n",
       "      <td>5112 63RD ST</td>\n",
       "      <td>6</td>\n",
       "      <td>6B</td>\n",
       "      <td>1088</td>\n",
       "      <td>530.5 PC USE PERSONAL ID INFO</td>\n",
       "      <td>2604</td>\n",
       "      <td>38.528165</td>\n",
       "      <td>-121.431453</td>\n",
       "    </tr>\n",
       "    <tr>\n",
       "      <th>15</th>\n",
       "      <td>1/1/06 0:00</td>\n",
       "      <td>4856 11TH AVE</td>\n",
       "      <td>6</td>\n",
       "      <td>6B</td>\n",
       "      <td>1054</td>\n",
       "      <td>487(A) PC GRAND THEFT</td>\n",
       "      <td>2303</td>\n",
       "      <td>38.541529</td>\n",
       "      <td>-121.449510</td>\n",
       "    </tr>\n",
       "    <tr>\n",
       "      <th>25</th>\n",
       "      <td>1/1/06 0:01</td>\n",
       "      <td>3340 62ND ST</td>\n",
       "      <td>6</td>\n",
       "      <td>6B</td>\n",
       "      <td>1047</td>\n",
       "      <td>594(B)(1)PC  VANDALISM +$400</td>\n",
       "      <td>2999</td>\n",
       "      <td>38.543804</td>\n",
       "      <td>-121.433283</td>\n",
       "    </tr>\n",
       "    <tr>\n",
       "      <th>...</th>\n",
       "      <td>...</td>\n",
       "      <td>...</td>\n",
       "      <td>...</td>\n",
       "      <td>...</td>\n",
       "      <td>...</td>\n",
       "      <td>...</td>\n",
       "      <td>...</td>\n",
       "      <td>...</td>\n",
       "      <td>...</td>\n",
       "    </tr>\n",
       "    <tr>\n",
       "      <th>7530</th>\n",
       "      <td>1/31/06 19:42</td>\n",
       "      <td>ORTEGA ST / JANSEN DR</td>\n",
       "      <td>6</td>\n",
       "      <td>6B</td>\n",
       "      <td>1402</td>\n",
       "      <td>TOWED/STORED VEH-14602.6</td>\n",
       "      <td>7000</td>\n",
       "      <td>38.522068</td>\n",
       "      <td>-121.431868</td>\n",
       "    </tr>\n",
       "    <tr>\n",
       "      <th>7541</th>\n",
       "      <td>1/31/06 20:30</td>\n",
       "      <td>5100 STOCKTON BLVD</td>\n",
       "      <td>6</td>\n",
       "      <td>6B</td>\n",
       "      <td>1084</td>\n",
       "      <td>243(E)1 BATTERY NONCOHAB SPOUS</td>\n",
       "      <td>1315</td>\n",
       "      <td>38.528234</td>\n",
       "      <td>-121.445648</td>\n",
       "    </tr>\n",
       "    <tr>\n",
       "      <th>7554</th>\n",
       "      <td>1/31/06 21:42</td>\n",
       "      <td>6125 STOCKTON BLVD</td>\n",
       "      <td>6</td>\n",
       "      <td>6B</td>\n",
       "      <td>1421</td>\n",
       "      <td>368(C) CAUSE PAIN/INJ TO ELDER</td>\n",
       "      <td>1315</td>\n",
       "      <td>38.515466</td>\n",
       "      <td>-121.436251</td>\n",
       "    </tr>\n",
       "    <tr>\n",
       "      <th>7575</th>\n",
       "      <td>1/31/06 23:00</td>\n",
       "      <td>1857 DISCOVERY WAY</td>\n",
       "      <td>6</td>\n",
       "      <td>6B</td>\n",
       "      <td>1006</td>\n",
       "      <td>484 PC  PETTY THEFT/ OUTSIDE</td>\n",
       "      <td>2309</td>\n",
       "      <td>38.556651</td>\n",
       "      <td>-121.447708</td>\n",
       "    </tr>\n",
       "    <tr>\n",
       "      <th>7578</th>\n",
       "      <td>1/31/06 23:31</td>\n",
       "      <td>39TH ST / STOCKTON BLVD</td>\n",
       "      <td>6</td>\n",
       "      <td>6B</td>\n",
       "      <td>1005</td>\n",
       "      <td>CASUALTY REPORT</td>\n",
       "      <td>7000</td>\n",
       "      <td>38.556639</td>\n",
       "      <td>-121.459744</td>\n",
       "    </tr>\n",
       "  </tbody>\n",
       "</table>\n",
       "<p>412 rows × 9 columns</p>\n",
       "</div>"
      ],
      "text/plain": [
       "          cdatetime                  address  district        beat  grid  \\\n",
       "5       1/1/06 0:00       5301 BONNIEMAE WAY         6  6B          1084   \n",
       "10      1/1/06 0:00       2315 STOCKTON BLVD         6  6B          1005   \n",
       "11      1/1/06 0:00             5112 63RD ST         6  6B          1088   \n",
       "15      1/1/06 0:00            4856 11TH AVE         6  6B          1054   \n",
       "25      1/1/06 0:01             3340 62ND ST         6  6B          1047   \n",
       "...             ...                      ...       ...         ...   ...   \n",
       "7530  1/31/06 19:42    ORTEGA ST / JANSEN DR         6  6B          1402   \n",
       "7541  1/31/06 20:30       5100 STOCKTON BLVD         6  6B          1084   \n",
       "7554  1/31/06 21:42       6125 STOCKTON BLVD         6  6B          1421   \n",
       "7575  1/31/06 23:00       1857 DISCOVERY WAY         6  6B          1006   \n",
       "7578  1/31/06 23:31  39TH ST / STOCKTON BLVD         6  6B          1005   \n",
       "\n",
       "                          crimedescr  ucr_ncic_code   latitude   longitude  \n",
       "5      530.5 PC USE PERSONAL ID INFO           2604  38.526979 -121.451338  \n",
       "10       ASSAULT WITH WEAPON - I RPT           7000  38.554264 -121.454605  \n",
       "11     530.5 PC USE PERSONAL ID INFO           2604  38.528165 -121.431453  \n",
       "15             487(A) PC GRAND THEFT           2303  38.541529 -121.449510  \n",
       "25      594(B)(1)PC  VANDALISM +$400           2999  38.543804 -121.433283  \n",
       "...                              ...            ...        ...         ...  \n",
       "7530        TOWED/STORED VEH-14602.6           7000  38.522068 -121.431868  \n",
       "7541  243(E)1 BATTERY NONCOHAB SPOUS           1315  38.528234 -121.445648  \n",
       "7554  368(C) CAUSE PAIN/INJ TO ELDER           1315  38.515466 -121.436251  \n",
       "7575    484 PC  PETTY THEFT/ OUTSIDE           2309  38.556651 -121.447708  \n",
       "7578                 CASUALTY REPORT           7000  38.556639 -121.459744  \n",
       "\n",
       "[412 rows x 9 columns]"
      ]
     },
     "execution_count": 42,
     "metadata": {},
     "output_type": "execute_result"
    }
   ],
   "source": [
    "df[(df['district'] > 3) & (df['beat'].astype(str).str[:2] == '6B')]"
   ]
  },
  {
   "cell_type": "markdown",
   "id": "92873ddd",
   "metadata": {},
   "source": [
    "## 그룹화(Grouping)"
   ]
  },
  {
   "cell_type": "markdown",
   "id": "a0f68eec",
   "metadata": {},
   "source": [
    "`groupby`는 특성 속성 별로 그룹화 함수를 적용할 수 있도록 한다."
   ]
  },
  {
   "cell_type": "code",
   "execution_count": 93,
   "id": "ae3fec65",
   "metadata": {},
   "outputs": [
    {
     "data": {
      "text/plain": [
       "address\n",
       "1 CLAUSS CT        6.0\n",
       "1 DECATHLON CIR    5.0\n",
       "1 DEERTREE CT      5.0\n",
       "1 GOFF CT          2.0\n",
       "1 GRANVILLE CT     2.0\n",
       "Name: district, dtype: float64"
      ]
     },
     "execution_count": 93,
     "metadata": {},
     "output_type": "execute_result"
    }
   ],
   "source": [
    "df.groupby('address')['district'].mean().head()"
   ]
  },
  {
   "cell_type": "markdown",
   "id": "8c675727",
   "metadata": {},
   "source": [
    "`value` 속성은 데이터프레임 값을 Numpy 형태로 변환한다."
   ]
  },
  {
   "cell_type": "code",
   "execution_count": 50,
   "id": "5ef5110f",
   "metadata": {},
   "outputs": [
    {
     "name": "stdout",
     "output_type": "stream",
     "text": [
      "<class 'numpy.ndarray'>\n",
      "(7584, 9)\n"
     ]
    },
    {
     "data": {
      "text/plain": [
       "array([['1/1/06 0:00', '3108 OCCIDENTAL DR', 3, ..., 2404, 38.55042047,\n",
       "        -121.3914158],\n",
       "       ['1/1/06 0:00', '2082 EXPEDITION WAY', 5, ..., 2204, 38.47350069,\n",
       "        -121.4901858],\n",
       "       ['1/1/06 0:00', '4 PALEN CT', 2, ..., 2404, 38.65784584,\n",
       "        -121.4621009],\n",
       "       ...,\n",
       "       ['1/31/06 23:41', '30TH ST / K ST', 3, ..., 5400, 38.57203045,\n",
       "        -121.4670118],\n",
       "       ['1/31/06 23:45', '5303 FRANKLIN BLVD', 4, ..., 7000, 38.52718667,\n",
       "        -121.4712477],\n",
       "       ['1/31/06 23:50', 'COBBLE COVE LN / COBBLE SHORES DR', 4, ...,\n",
       "        5400, 38.47962803, -121.5286345]], dtype=object)"
      ]
     },
     "execution_count": 50,
     "metadata": {},
     "output_type": "execute_result"
    }
   ],
   "source": [
    "print(type(df.values))\n",
    "print(df.values.shape)\n",
    "df.values"
   ]
  },
  {
   "cell_type": "markdown",
   "id": "bfee2325",
   "metadata": {},
   "source": [
    "따라서 `values` 속성은 Numpy ndarray와 동일한 방법으로 사용할 수 있다."
   ]
  },
  {
   "cell_type": "code",
   "execution_count": 51,
   "id": "823f57d0",
   "metadata": {},
   "outputs": [
    {
     "data": {
      "text/plain": [
       "'1/1/06 0:00'"
      ]
     },
     "execution_count": 51,
     "metadata": {},
     "output_type": "execute_result"
    }
   ],
   "source": [
    "df.values[0, 0]"
   ]
  },
  {
   "cell_type": "markdown",
   "id": "d0b13e6c",
   "metadata": {},
   "source": [
    "## 데이터프레임 순환"
   ]
  },
  {
   "cell_type": "markdown",
   "id": "8855437b",
   "metadata": {},
   "source": [
    "`iterrows()` 함수를 사용하면 데이터프레임의 행 단위로 순환이 가능하다. 각 행은 시리즈 형태로 반환된다."
   ]
  },
  {
   "cell_type": "code",
   "execution_count": 55,
   "id": "6cdfb112",
   "metadata": {
    "scrolled": true
   },
   "outputs": [
    {
     "name": "stdout",
     "output_type": "stream",
     "text": [
      "#Data type of row: <class 'pandas.core.series.Series'>\n",
      "cdatetime                          1/1/06 0:00\n",
      "address                     3108 OCCIDENTAL DR\n",
      "district                                     3\n",
      "beat                                3C        \n",
      "grid                                      1115\n",
      "crimedescr       10851(A)VC TAKE VEH W/O OWNER\n",
      "ucr_ncic_code                             2404\n",
      "latitude                              38.55042\n",
      "longitude                          -121.391416\n",
      "Name: 0, dtype: object\n",
      "#Data type of row: <class 'pandas.core.series.Series'>\n",
      "cdatetime                       1/1/06 0:00\n",
      "address                 2082 EXPEDITION WAY\n",
      "district                                  5\n",
      "beat                             5A        \n",
      "grid                                   1512\n",
      "crimedescr       459 PC  BURGLARY RESIDENCE\n",
      "ucr_ncic_code                          2204\n",
      "latitude                          38.473501\n",
      "longitude                       -121.490186\n",
      "Name: 1, dtype: object\n",
      "#Data type of row: <class 'pandas.core.series.Series'>\n",
      "cdatetime                          1/1/06 0:00\n",
      "address                             4 PALEN CT\n",
      "district                                     2\n",
      "beat                                2A        \n",
      "grid                                       212\n",
      "crimedescr       10851(A)VC TAKE VEH W/O OWNER\n",
      "ucr_ncic_code                             2404\n",
      "latitude                             38.657846\n",
      "longitude                          -121.462101\n",
      "Name: 2, dtype: object\n",
      "#Data type of row: <class 'pandas.core.series.Series'>\n",
      "cdatetime                         1/1/06 0:00\n",
      "address                        22 BECKFORD CT\n",
      "district                                    6\n",
      "beat                               6C        \n",
      "grid                                     1443\n",
      "crimedescr       476 PC PASS FICTICIOUS CHECK\n",
      "ucr_ncic_code                            2501\n",
      "latitude                            38.506774\n",
      "longitude                         -121.426951\n",
      "Name: 3, dtype: object\n"
     ]
    }
   ],
   "source": [
    "for index, row in df.iterrows():\n",
    "    print('#Data type of row:', type(row))\n",
    "    print(row)\n",
    "    if index == 3:\n",
    "        break"
   ]
  },
  {
   "cell_type": "markdown",
   "id": "77a51217",
   "metadata": {},
   "source": [
    "## 데이터 시각화"
   ]
  },
  {
   "cell_type": "markdown",
   "id": "c3db49c3",
   "metadata": {},
   "source": [
    "matplotlib을 이용해 아래와 같이 데이터프레임으로부터 바로 그래프를 그리는 것이 가능."
   ]
  },
  {
   "cell_type": "code",
   "execution_count": 60,
   "id": "89b76c15",
   "metadata": {},
   "outputs": [],
   "source": [
    "import matplotlib.pyplot as plt\n",
    "%matplotlib inline"
   ]
  },
  {
   "cell_type": "code",
   "execution_count": 61,
   "id": "121756b6",
   "metadata": {},
   "outputs": [
    {
     "data": {
      "image/png": "[encoded data removed]",
      "text/plain": [
       "<Figure size 432x288 with 1 Axes>"
      ]
     },
     "metadata": {
      "needs_background": "light"
     },
     "output_type": "display_data"
    }
   ],
   "source": [
    "a = df['district'].plot.hist(bins=20)\n",
    "a.set_xlabel('Points for district')\n",
    "plt.show()"
   ]
  },
  {
   "cell_type": "markdown",
   "id": "aa6a2d52",
   "metadata": {},
   "source": [
    "## 데이터클리닝"
   ]
  },
  {
   "cell_type": "markdown",
   "id": "2ed72bec",
   "metadata": {},
   "source": [
    "대표적인 데이터 클리닝은 결측값(missing value) 처리인데, pandas 는 결측값 여부를 반환하는 `isnull`함수가 있다. 아래와 같이 `sum()` 함수와 결합하면 각 열의 결측값 수를 알 수 있다."
   ]
  },
  {
   "cell_type": "code",
   "execution_count": 62,
   "id": "bad32990",
   "metadata": {},
   "outputs": [
    {
     "data": {
      "text/plain": [
       "cdatetime        0\n",
       "address          0\n",
       "district         0\n",
       "beat             0\n",
       "grid             0\n",
       "crimedescr       0\n",
       "ucr_ncic_code    0\n",
       "latitude         0\n",
       "longitude        0\n",
       "dtype: int64"
      ]
     },
     "execution_count": 62,
     "metadata": {},
     "output_type": "execute_result"
    }
   ],
   "source": [
    "df.isnull().sum()"
   ]
  },
  {
   "cell_type": "code",
   "execution_count": 75,
   "id": "3b51dc93",
   "metadata": {},
   "outputs": [
    {
     "data": {
      "text/html": [
       "<div>\n",
       "<style scoped>\n",
       "    .dataframe tbody tr th:only-of-type {\n",
       "        vertical-align: middle;\n",
       "    }\n",
       "\n",
       "    .dataframe tbody tr th {\n",
       "        vertical-align: top;\n",
       "    }\n",
       "\n",
       "    .dataframe thead th {\n",
       "        text-align: right;\n",
       "    }\n",
       "</style>\n",
       "<table border=\"1\" class=\"dataframe\">\n",
       "  <thead>\n",
       "    <tr style=\"text-align: right;\">\n",
       "      <th></th>\n",
       "      <th>name</th>\n",
       "      <th>sn</th>\n",
       "      <th>mid</th>\n",
       "      <th>final</th>\n",
       "      <th>quiz</th>\n",
       "    </tr>\n",
       "  </thead>\n",
       "  <tbody>\n",
       "    <tr>\n",
       "      <th>0</th>\n",
       "      <td>Park</td>\n",
       "      <td>1001</td>\n",
       "      <td>70.0</td>\n",
       "      <td>60.0</td>\n",
       "      <td>10</td>\n",
       "    </tr>\n",
       "    <tr>\n",
       "      <th>1</th>\n",
       "      <td>Kim</td>\n",
       "      <td>1002</td>\n",
       "      <td>80.0</td>\n",
       "      <td>75.0</td>\n",
       "      <td>10</td>\n",
       "    </tr>\n",
       "    <tr>\n",
       "      <th>2</th>\n",
       "      <td>Lee</td>\n",
       "      <td>1003</td>\n",
       "      <td>NaN</td>\n",
       "      <td>NaN</td>\n",
       "      <td>10</td>\n",
       "    </tr>\n",
       "    <tr>\n",
       "      <th>3</th>\n",
       "      <td>Kang</td>\n",
       "      <td>1004</td>\n",
       "      <td>90.0</td>\n",
       "      <td>49.0</td>\n",
       "      <td>10</td>\n",
       "    </tr>\n",
       "  </tbody>\n",
       "</table>\n",
       "</div>"
      ],
      "text/plain": [
       "   name    sn   mid  final  quiz\n",
       "0  Park  1001  70.0   60.0    10\n",
       "1   Kim  1002  80.0   75.0    10\n",
       "2   Lee  1003   NaN    NaN    10\n",
       "3  Kang  1004  90.0   49.0    10"
      ]
     },
     "execution_count": 75,
     "metadata": {},
     "output_type": "execute_result"
    }
   ],
   "source": [
    "df1 = pd.read_csv('sample.csv')\n",
    "df1"
   ]
  },
  {
   "cell_type": "code",
   "execution_count": 76,
   "id": "f941e918",
   "metadata": {},
   "outputs": [
    {
     "data": {
      "text/plain": [
       "name     0\n",
       "sn       0\n",
       "mid      1\n",
       "final    1\n",
       "quiz     0\n",
       "dtype: int64"
      ]
     },
     "execution_count": 76,
     "metadata": {},
     "output_type": "execute_result"
    }
   ],
   "source": [
    "df1.isnull().sum()"
   ]
  },
  {
   "cell_type": "markdown",
   "id": "266608af",
   "metadata": {},
   "source": [
    "결측치를 처리하는 일반적인 방법으로 다음과 같은 함수가 있다.\n",
    "\n",
    "`dropna()` : 결측치가 있는 모든 행을 없앤다.  \n",
    "`fillna()` : 결측치를 정해진 값으로 바꾼다.\n",
    "\n",
    "아래 예에서는 결측치를 0으로 바꾼다."
   ]
  },
  {
   "cell_type": "code",
   "execution_count": 77,
   "id": "2033bebf",
   "metadata": {},
   "outputs": [
    {
     "data": {
      "text/html": [
       "<div>\n",
       "<style scoped>\n",
       "    .dataframe tbody tr th:only-of-type {\n",
       "        vertical-align: middle;\n",
       "    }\n",
       "\n",
       "    .dataframe tbody tr th {\n",
       "        vertical-align: top;\n",
       "    }\n",
       "\n",
       "    .dataframe thead th {\n",
       "        text-align: right;\n",
       "    }\n",
       "</style>\n",
       "<table border=\"1\" class=\"dataframe\">\n",
       "  <thead>\n",
       "    <tr style=\"text-align: right;\">\n",
       "      <th></th>\n",
       "      <th>name</th>\n",
       "      <th>sn</th>\n",
       "      <th>mid</th>\n",
       "      <th>final</th>\n",
       "      <th>quiz</th>\n",
       "    </tr>\n",
       "  </thead>\n",
       "  <tbody>\n",
       "    <tr>\n",
       "      <th>0</th>\n",
       "      <td>Park</td>\n",
       "      <td>1001</td>\n",
       "      <td>70.0</td>\n",
       "      <td>60.0</td>\n",
       "      <td>10</td>\n",
       "    </tr>\n",
       "    <tr>\n",
       "      <th>1</th>\n",
       "      <td>Kim</td>\n",
       "      <td>1002</td>\n",
       "      <td>80.0</td>\n",
       "      <td>75.0</td>\n",
       "      <td>10</td>\n",
       "    </tr>\n",
       "    <tr>\n",
       "      <th>2</th>\n",
       "      <td>Lee</td>\n",
       "      <td>1003</td>\n",
       "      <td>0.0</td>\n",
       "      <td>0.0</td>\n",
       "      <td>10</td>\n",
       "    </tr>\n",
       "    <tr>\n",
       "      <th>3</th>\n",
       "      <td>Kang</td>\n",
       "      <td>1004</td>\n",
       "      <td>90.0</td>\n",
       "      <td>49.0</td>\n",
       "      <td>10</td>\n",
       "    </tr>\n",
       "  </tbody>\n",
       "</table>\n",
       "</div>"
      ],
      "text/plain": [
       "   name    sn   mid  final  quiz\n",
       "0  Park  1001  70.0   60.0    10\n",
       "1   Kim  1002  80.0   75.0    10\n",
       "2   Lee  1003   0.0    0.0    10\n",
       "3  Kang  1004  90.0   49.0    10"
      ]
     },
     "execution_count": 77,
     "metadata": {},
     "output_type": "execute_result"
    }
   ],
   "source": [
    "df1.fillna(0)"
   ]
  },
  {
   "cell_type": "code",
   "execution_count": 79,
   "id": "4532b799",
   "metadata": {},
   "outputs": [
    {
     "data": {
      "text/html": [
       "<div>\n",
       "<style scoped>\n",
       "    .dataframe tbody tr th:only-of-type {\n",
       "        vertical-align: middle;\n",
       "    }\n",
       "\n",
       "    .dataframe tbody tr th {\n",
       "        vertical-align: top;\n",
       "    }\n",
       "\n",
       "    .dataframe thead th {\n",
       "        text-align: right;\n",
       "    }\n",
       "</style>\n",
       "<table border=\"1\" class=\"dataframe\">\n",
       "  <thead>\n",
       "    <tr style=\"text-align: right;\">\n",
       "      <th></th>\n",
       "      <th>name</th>\n",
       "      <th>sn</th>\n",
       "      <th>mid</th>\n",
       "      <th>final</th>\n",
       "      <th>quiz</th>\n",
       "    </tr>\n",
       "  </thead>\n",
       "  <tbody>\n",
       "    <tr>\n",
       "      <th>0</th>\n",
       "      <td>Park</td>\n",
       "      <td>1001</td>\n",
       "      <td>70.0</td>\n",
       "      <td>60.0</td>\n",
       "      <td>10</td>\n",
       "    </tr>\n",
       "    <tr>\n",
       "      <th>1</th>\n",
       "      <td>Kim</td>\n",
       "      <td>1002</td>\n",
       "      <td>80.0</td>\n",
       "      <td>75.0</td>\n",
       "      <td>10</td>\n",
       "    </tr>\n",
       "    <tr>\n",
       "      <th>3</th>\n",
       "      <td>Kang</td>\n",
       "      <td>1004</td>\n",
       "      <td>90.0</td>\n",
       "      <td>49.0</td>\n",
       "      <td>10</td>\n",
       "    </tr>\n",
       "  </tbody>\n",
       "</table>\n",
       "</div>"
      ],
      "text/plain": [
       "   name    sn   mid  final  quiz\n",
       "0  Park  1001  70.0   60.0    10\n",
       "1   Kim  1002  80.0   75.0    10\n",
       "3  Kang  1004  90.0   49.0    10"
      ]
     },
     "execution_count": 79,
     "metadata": {},
     "output_type": "execute_result"
    }
   ],
   "source": [
    "df1.dropna()"
   ]
  },
  {
   "cell_type": "markdown",
   "id": "2b418e4d",
   "metadata": {},
   "source": [
    "## CSV 파일로 데이터프레임 저장 "
   ]
  },
  {
   "cell_type": "markdown",
   "id": "78022cd8",
   "metadata": {},
   "source": [
    "`to_csv()` 함수 사용 시 데이터프레임을 csv로 쉽게 저장할 수 있다."
   ]
  },
  {
   "cell_type": "code",
   "execution_count": 80,
   "id": "e6f12eef",
   "metadata": {},
   "outputs": [
    {
     "data": {
      "text/html": [
       "<div>\n",
       "<style scoped>\n",
       "    .dataframe tbody tr th:only-of-type {\n",
       "        vertical-align: middle;\n",
       "    }\n",
       "\n",
       "    .dataframe tbody tr th {\n",
       "        vertical-align: top;\n",
       "    }\n",
       "\n",
       "    .dataframe thead th {\n",
       "        text-align: right;\n",
       "    }\n",
       "</style>\n",
       "<table border=\"1\" class=\"dataframe\">\n",
       "  <thead>\n",
       "    <tr style=\"text-align: right;\">\n",
       "      <th></th>\n",
       "      <th>Unnamed: 0</th>\n",
       "      <th>name</th>\n",
       "      <th>sn</th>\n",
       "      <th>mid</th>\n",
       "      <th>final</th>\n",
       "      <th>quiz</th>\n",
       "    </tr>\n",
       "  </thead>\n",
       "  <tbody>\n",
       "    <tr>\n",
       "      <th>0</th>\n",
       "      <td>0</td>\n",
       "      <td>Park</td>\n",
       "      <td>1001</td>\n",
       "      <td>70.0</td>\n",
       "      <td>60.0</td>\n",
       "      <td>10</td>\n",
       "    </tr>\n",
       "    <tr>\n",
       "      <th>1</th>\n",
       "      <td>1</td>\n",
       "      <td>Kim</td>\n",
       "      <td>1002</td>\n",
       "      <td>80.0</td>\n",
       "      <td>75.0</td>\n",
       "      <td>10</td>\n",
       "    </tr>\n",
       "    <tr>\n",
       "      <th>2</th>\n",
       "      <td>2</td>\n",
       "      <td>Lee</td>\n",
       "      <td>1003</td>\n",
       "      <td>0.0</td>\n",
       "      <td>0.0</td>\n",
       "      <td>10</td>\n",
       "    </tr>\n",
       "    <tr>\n",
       "      <th>3</th>\n",
       "      <td>3</td>\n",
       "      <td>Kang</td>\n",
       "      <td>1004</td>\n",
       "      <td>90.0</td>\n",
       "      <td>49.0</td>\n",
       "      <td>10</td>\n",
       "    </tr>\n",
       "  </tbody>\n",
       "</table>\n",
       "</div>"
      ],
      "text/plain": [
       "   Unnamed: 0  name    sn   mid  final  quiz\n",
       "0           0  Park  1001  70.0   60.0    10\n",
       "1           1   Kim  1002  80.0   75.0    10\n",
       "2           2   Lee  1003   0.0    0.0    10\n",
       "3           3  Kang  1004  90.0   49.0    10"
      ]
     },
     "execution_count": 80,
     "metadata": {},
     "output_type": "execute_result"
    }
   ],
   "source": [
    "df1.fillna(0).to_csv('test.csv')\n",
    "df2 = pd.read_csv('test.csv')\n",
    "df2"
   ]
  },
  {
   "cell_type": "markdown",
   "id": "d3d891b6",
   "metadata": {},
   "source": [
    "첫 열에 Unnamed가 있는 이유는, 저장 시 index가 함께 저장되고 읽어들일 때 새로운 인덱스로 할당했기 때문이다. 이것을 해결 하기 위해선 첫째, 저장할 때 인덱스를 제외하고 저장하거나 둘째, 읽어들일 때 첫 열을 인덱스로 읽어들이는 방법이 있다."
   ]
  },
  {
   "cell_type": "code",
   "execution_count": 81,
   "id": "9172a784",
   "metadata": {},
   "outputs": [
    {
     "data": {
      "text/html": [
       "<div>\n",
       "<style scoped>\n",
       "    .dataframe tbody tr th:only-of-type {\n",
       "        vertical-align: middle;\n",
       "    }\n",
       "\n",
       "    .dataframe tbody tr th {\n",
       "        vertical-align: top;\n",
       "    }\n",
       "\n",
       "    .dataframe thead th {\n",
       "        text-align: right;\n",
       "    }\n",
       "</style>\n",
       "<table border=\"1\" class=\"dataframe\">\n",
       "  <thead>\n",
       "    <tr style=\"text-align: right;\">\n",
       "      <th></th>\n",
       "      <th>name</th>\n",
       "      <th>sn</th>\n",
       "      <th>mid</th>\n",
       "      <th>final</th>\n",
       "      <th>quiz</th>\n",
       "    </tr>\n",
       "  </thead>\n",
       "  <tbody>\n",
       "    <tr>\n",
       "      <th>0</th>\n",
       "      <td>Park</td>\n",
       "      <td>1001</td>\n",
       "      <td>70.0</td>\n",
       "      <td>60.0</td>\n",
       "      <td>10</td>\n",
       "    </tr>\n",
       "    <tr>\n",
       "      <th>1</th>\n",
       "      <td>Kim</td>\n",
       "      <td>1002</td>\n",
       "      <td>80.0</td>\n",
       "      <td>75.0</td>\n",
       "      <td>10</td>\n",
       "    </tr>\n",
       "    <tr>\n",
       "      <th>2</th>\n",
       "      <td>Lee</td>\n",
       "      <td>1003</td>\n",
       "      <td>0.0</td>\n",
       "      <td>0.0</td>\n",
       "      <td>10</td>\n",
       "    </tr>\n",
       "    <tr>\n",
       "      <th>3</th>\n",
       "      <td>Kang</td>\n",
       "      <td>1004</td>\n",
       "      <td>90.0</td>\n",
       "      <td>49.0</td>\n",
       "      <td>10</td>\n",
       "    </tr>\n",
       "  </tbody>\n",
       "</table>\n",
       "</div>"
      ],
      "text/plain": [
       "   name    sn   mid  final  quiz\n",
       "0  Park  1001  70.0   60.0    10\n",
       "1   Kim  1002  80.0   75.0    10\n",
       "2   Lee  1003   0.0    0.0    10\n",
       "3  Kang  1004  90.0   49.0    10"
      ]
     },
     "execution_count": 81,
     "metadata": {},
     "output_type": "execute_result"
    }
   ],
   "source": [
    "#첫째 방법 \n",
    "df1.fillna(0).to_csv('test.csv', index=False) #인덱스를 저장하지 않음\n",
    "df2 = pd.read_csv('test.csv')\n",
    "df2"
   ]
  },
  {
   "cell_type": "code",
   "execution_count": 87,
   "id": "f03b5033",
   "metadata": {},
   "outputs": [
    {
     "data": {
      "text/html": [
       "<div>\n",
       "<style scoped>\n",
       "    .dataframe tbody tr th:only-of-type {\n",
       "        vertical-align: middle;\n",
       "    }\n",
       "\n",
       "    .dataframe tbody tr th {\n",
       "        vertical-align: top;\n",
       "    }\n",
       "\n",
       "    .dataframe thead th {\n",
       "        text-align: right;\n",
       "    }\n",
       "</style>\n",
       "<table border=\"1\" class=\"dataframe\">\n",
       "  <thead>\n",
       "    <tr style=\"text-align: right;\">\n",
       "      <th></th>\n",
       "      <th>name</th>\n",
       "      <th>sn</th>\n",
       "      <th>mid</th>\n",
       "      <th>final</th>\n",
       "      <th>quiz</th>\n",
       "    </tr>\n",
       "  </thead>\n",
       "  <tbody>\n",
       "    <tr>\n",
       "      <th>0</th>\n",
       "      <td>Park</td>\n",
       "      <td>1001</td>\n",
       "      <td>70.0</td>\n",
       "      <td>60.0</td>\n",
       "      <td>10</td>\n",
       "    </tr>\n",
       "    <tr>\n",
       "      <th>1</th>\n",
       "      <td>Kim</td>\n",
       "      <td>1002</td>\n",
       "      <td>80.0</td>\n",
       "      <td>75.0</td>\n",
       "      <td>10</td>\n",
       "    </tr>\n",
       "    <tr>\n",
       "      <th>2</th>\n",
       "      <td>Lee</td>\n",
       "      <td>1003</td>\n",
       "      <td>0.0</td>\n",
       "      <td>0.0</td>\n",
       "      <td>10</td>\n",
       "    </tr>\n",
       "    <tr>\n",
       "      <th>3</th>\n",
       "      <td>Kang</td>\n",
       "      <td>1004</td>\n",
       "      <td>90.0</td>\n",
       "      <td>49.0</td>\n",
       "      <td>10</td>\n",
       "    </tr>\n",
       "  </tbody>\n",
       "</table>\n",
       "</div>"
      ],
      "text/plain": [
       "   name    sn   mid  final  quiz\n",
       "0  Park  1001  70.0   60.0    10\n",
       "1   Kim  1002  80.0   75.0    10\n",
       "2   Lee  1003   0.0    0.0    10\n",
       "3  Kang  1004  90.0   49.0    10"
      ]
     },
     "execution_count": 87,
     "metadata": {},
     "output_type": "execute_result"
    }
   ],
   "source": [
    "#둘째 방법\n",
    "df1.fillna(0).to_csv('test.csv')\n",
    "df2 = pd.read_csv('test.csv', index_col=0) #첫 열을 인덱스로 저장\n",
    "df2"
   ]
  },
  {
   "cell_type": "markdown",
   "id": "4612bf3c",
   "metadata": {},
   "source": [
    "## 기타 유용한 함수들"
   ]
  },
  {
   "cell_type": "markdown",
   "id": "3b5645f9",
   "metadata": {},
   "source": [
    "- `drop()` - This function removes the column or row that you pass in (You also have the specify the axis).\n",
    "- `agg()` - The aggregate function lets you compute summary statistics about each group\n",
    "- `apply()` - Lets you apply a specific function to any/all elements in a Dataframe or Series\n",
    "- `get_dummies()` - Helpful for turning categorical data into one hot vectors.\n",
    "- `drop_duplicates()` - Lets you remove identical rows"
   ]
  },
  {
   "cell_type": "code",
   "execution_count": 104,
   "id": "110aa7d3",
   "metadata": {},
   "outputs": [
    {
     "name": "stdout",
     "output_type": "stream",
     "text": [
      "             district   grid  ucr_ncic_code    latitude    longitude\n",
      "cdatetime                                                           \n",
      "1/1/06 0:00        84  19783          62169  771.062227 -2429.025781\n",
      "1/1/06 0:01        76  20558          89955  925.531364 -2915.523340\n",
      "1/1/06 0:10         6   1421           5213   38.515264  -121.429651\n",
      "1/1/06 0:15         2    212           2404   38.657373  -121.457758\n",
      "1/1/06 0:18         6   1087           7000   38.527992  -121.434789\n",
      "...               ...    ...            ...         ...          ...\n",
      "1/9/06 9:34         3    841           7000   38.572711  -121.466290\n",
      "1/9/06 9:35         6   1007           7000   38.546756  -121.453840\n",
      "1/9/06 9:40         5   1603           1315   38.474355  -121.448452\n",
      "1/9/06 9:55         6   1019           7000   38.546695  -121.441693\n",
      "1/9/06 9:58         1    444           5007   38.608748  -121.494402\n",
      "\n",
      "[5094 rows x 5 columns]\n"
     ]
    }
   ],
   "source": [
    "# agg() 각 그룹에 대한 요약 통계\n",
    "print(df.groupby('cdatetime').agg(sum))"
   ]
  },
  {
   "cell_type": "markdown",
   "id": "ba0b88bf",
   "metadata": {},
   "source": [
    "## 기타 참고 사이트"
   ]
  },
  {
   "cell_type": "markdown",
   "id": "529f0dcb",
   "metadata": {},
   "source": [
    "- http://pandas.pydata.org/pandas-docs/stable/10min.html\n",
    "- https://www.datacamp.com/community/tutorials/pandas-tutorial-dataframe-python\n",
    "- http://www.gregreda.com/2013/10/26/intro-to-pandas-data-structures/\n",
    "- https://www.dataquest.io/blog/pandas-python-tutorial/\n",
    "- https://drive.google.com/file/d/0ByIrJAE4KMTtTUtiVExiUGVkRkE/view\n",
    "- https://www.youtube.com/playlist?list=PL5-da3qGB5ICCsgW1MxlZ0Hq8LL5U3u9y"
   ]
  }
 ],
 "metadata": {
  "kernelspec": {
   "display_name": "Python 3",
   "language": "python",
   "name": "python3"
  },
  "language_info": {
   "codemirror_mode": {
    "name": "ipython",
    "version": 3
   },
   "file_extension": ".py",
   "mimetype": "text/x-python",
   "name": "python",
   "nbconvert_exporter": "python",
   "pygments_lexer": "ipython3",
   "version": "3.8.8"
  }
 },
 "nbformat": 4,
 "nbformat_minor": 5
}
