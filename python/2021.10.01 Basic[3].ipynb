{
 "cells": [
  {
   "cell_type": "markdown",
   "id": "684b41b1",
   "metadata": {},
   "source": [
    "## 전달값과 반환값 함수 호출"
   ]
  },
  {
   "cell_type": "code",
   "execution_count": 16,
   "id": "c3af0efc",
   "metadata": {},
   "outputs": [
    {
     "name": "stdout",
     "output_type": "stream",
     "text": [
      "입금이 완료되었습니다. 잔액은 1000원입니다.\n",
      "수수료는 100원이며, 잔액은 400원 입니다.\n"
     ]
    }
   ],
   "source": [
    "#전달값\n",
    "def open_account():\n",
    "    print(\"새로운 계좌가 생성되었습니다.\")\n",
    "#반환값    \n",
    "def deposit(balance, money): #입금 \n",
    "    print(\"입금이 완료되었습니다. 잔액은 {0}원입니다.\".format(balance + money))\n",
    "    return balance + money \n",
    "\n",
    "def withdraw(balance,money) : #출금\n",
    "    if balance >= money: #잔액이 출금보다 많으면\n",
    "        print(\"출금이 완료되었습니다. 잔액은 {0} 원입니다.\".format(balance - money))\n",
    "        return balance - money \n",
    "    else:\n",
    "        print(\"출금이 완료되지 않았습니다. 잔액은 {0} 원입니다.\".format(balance))\n",
    "        return balance \n",
    "    \"\"\n",
    "def withdraw_night(balance, money): #저녁에 출금 \n",
    "    commission = 100 #수수료 100원 \n",
    "    return commission, balance - money - commission\n",
    "\n",
    "balance = 0 # 잔액 \n",
    "balance = deposit(balance, 1000)\n",
    "#balance = withdraw(balance, 2000)\n",
    "# balance = withdraw(balance, 500)\n",
    "commission, balance = withdraw_night(balance, 500)\n",
    "print(\"수수료는 {0}원이며, 잔액은 {1}원 입니다.\".format(commission,balance))\n"
   ]
  },
  {
   "cell_type": "markdown",
   "id": "0afe55dc",
   "metadata": {},
   "source": [
    "## 기본값 함수 호출"
   ]
  },
  {
   "cell_type": "code",
   "execution_count": 17,
   "id": "fc976978",
   "metadata": {},
   "outputs": [
    {
     "name": "stdout",
     "output_type": "stream",
     "text": [
      "이름 : 유재석\t나이 : 20\t주 사용 언어 :파이썬\n",
      "이름 : 김태호\t나이 : 25\t주 사용 언어 :자바\n"
     ]
    }
   ],
   "source": [
    "def profile(name,age,main_lang):\n",
    "    print(\"이름 : {0}\\t나이 : {1}\\t주 사용 언어 :{2}\"\\\n",
    "          .format(name,age,main_lang))\n",
    "    \n",
    "profile(\"유재석\", 20, \"파이썬\")\n",
    "profile(\"김태호\", 25, \"자바\")\n"
   ]
  },
  {
   "cell_type": "markdown",
   "id": "d5a1f79c",
   "metadata": {},
   "source": [
    "### 같은 학교 같은 학년 같은 반 수업일 경우에는?  \n",
    ": 이 때 사용되는 것이 기본값."
   ]
  },
  {
   "cell_type": "code",
   "execution_count": 18,
   "id": "780dea67",
   "metadata": {},
   "outputs": [
    {
     "name": "stdout",
     "output_type": "stream",
     "text": [
      "이름 : 유재석\t나이 : 17\t주 사용 언어 :파이썬\n",
      "이름 : 김태호\t나이 : 17\t주 사용 언어 :파이썬\n"
     ]
    }
   ],
   "source": [
    "def profile(name, age = 17, main_lang = \"파이썬\"):\n",
    "    print(\"이름 : {0}\\t나이 : {1}\\t주 사용 언어 :{2}\"\\\n",
    "          .format(name,age,main_lang))\n",
    "\n",
    "profile(\"유재석\")\n",
    "profile(\"김태호\")\n",
    "    "
   ]
  },
  {
   "cell_type": "markdown",
   "id": "2ff63c70",
   "metadata": {},
   "source": [
    "## 키워드값 함수 호출\n"
   ]
  },
  {
   "cell_type": "code",
   "execution_count": 19,
   "id": "048319de",
   "metadata": {},
   "outputs": [
    {
     "name": "stdout",
     "output_type": "stream",
     "text": [
      "유재석 20 파이썬\n",
      "김태호 25 자바\n"
     ]
    }
   ],
   "source": [
    "def profile(name, age, main_lang):\n",
    "    print(name,age, main_lang)\n",
    "\n",
    "profile(name = \"유재석\", main_lang=\"파이썬\", age = 20)\n",
    "profile(main_lang =\"자바\", age = 25, name=\"김태호\")"
   ]
  },
  {
   "cell_type": "markdown",
   "id": "d54b4b48",
   "metadata": {},
   "source": [
    "## 가변인자 함수 호출"
   ]
  },
  {
   "cell_type": "code",
   "execution_count": 20,
   "id": "d68bed72",
   "metadata": {},
   "outputs": [
    {
     "name": "stdout",
     "output_type": "stream",
     "text": [
      "이름 : 유재석\t나이 : 20\t Python Java C C++ C#\n",
      "이름 : 김태호\t나이 : 25\t Kotlin Swift   \n"
     ]
    }
   ],
   "source": [
    "def profile(name, age, lang1, lang2, lang3, lang4, lang5):\n",
    "    print(\"이름 : {0}\\t나이 : {1}\\t\".format(name,age), end =\" \")\n",
    "    print(lang1, lang2, lang3, lang4, lang5)\n",
    "\n",
    "profile(\"유재석\", 20, \"Python\", \"Java\", \"C\", \"C++\", \"C#\")\n",
    "profile(\"김태호\", 25, \"Kotlin\",\"Swift\",\"\", \"\", \"\" )"
   ]
  },
  {
   "cell_type": "markdown",
   "id": "ff023d31",
   "metadata": {},
   "source": [
    "빈값이 있을 경우 매번 빈값을 넣어줘야함.   \n",
    "값이 추가될 경우 함수 자체를 바꿔야함.  \n",
    "이럴때 쓸 수 있는 것이 가변인자"
   ]
  },
  {
   "cell_type": "code",
   "execution_count": 22,
   "id": "34f67ab6",
   "metadata": {},
   "outputs": [
    {
     "name": "stdout",
     "output_type": "stream",
     "text": [
      "이름 : 유재석\t나이 : 20\t Python Java C C++ C# JavaScript \n",
      "이름 : 김태호\t나이 : 25\t Kotlin Swift \n"
     ]
    }
   ],
   "source": [
    "def profile(name, age, *language): #가변인자값 사용\n",
    "    print(\"이름 : {0}\\t나이 : {1}\\t\".format(name,age), end =\" \")\n",
    "    for lang in language:\n",
    "        print(lang, end = \" \")\n",
    "    print()\n",
    "\n",
    "profile(\"유재석\", 20, \"Python\", \"Java\", \"C\", \"C++\", \"C#\", \"JavaScript\")\n",
    "profile(\"김태호\", 25, \"Kotlin\",\"Swift\")\n"
   ]
  },
  {
   "cell_type": "markdown",
   "id": "11a978e4",
   "metadata": {},
   "source": [
    "## 지역변수와 전역변수 "
   ]
  },
  {
   "cell_type": "markdown",
   "id": "2ea69df7",
   "metadata": {},
   "source": [
    "지역변수 : 함수 내에서만 사용 할 수 있는 것  \n",
    "전역변수 : 모든 공간에서 어디서든지 사용할 수 있는 것 "
   ]
  },
  {
   "cell_type": "code",
   "execution_count": 5,
   "id": "b3f7e8dc",
   "metadata": {},
   "outputs": [
    {
     "name": "stdout",
     "output_type": "stream",
     "text": [
      "전체 총 : 10\n",
      "[함수 내] 남은 총 : 8\n",
      "남은 총 : 8\n"
     ]
    }
   ],
   "source": [
    "gun = 10 \n",
    "\n",
    "def checkpoint(soldiers) : #경계근무\n",
    "    global gun # 전역 공간에 있는 gun 사용 \n",
    "    gun = gun - soldiers \n",
    "    print(\"[함수 내] 남은 총 : {0}\".format(gun))\n",
    "\n",
    "def checkpoint_ret(gun,soldiers):\n",
    "    gun = gun - soldiers\n",
    "    print(\"[함수 내] 남은 총 : {0}\".format(gun))\n",
    "    return gun \n",
    "\n",
    "print(\"전체 총 : {0}\".format(gun))\n",
    "#checkpoint(2) # 2명이 경계 근무 나감 \n",
    "gun = checkpoint_ret(gun,2)\n",
    "print(\"남은 총 : {0}\".format(gun))"
   ]
  },
  {
   "cell_type": "code",
   "execution_count": 7,
   "id": "2cbe554d",
   "metadata": {},
   "outputs": [
    {
     "name": "stdout",
     "output_type": "stream",
     "text": [
      "키 175cm 남자의 표준 체중은 67.38kg입니다.\n"
     ]
    }
   ],
   "source": [
    "def std_weight(height,gender):\n",
    "    if gender == \"남자\":\n",
    "        return height * height * 22\n",
    "    else :\n",
    "        return height * height * 21 \n",
    "\n",
    "height = 175 \n",
    "gender = \"남자\"\n",
    "weight = round(std_weight(height /100,gender),2)\n",
    "print(\"키 {0}cm {1}의 표준 체중은 {2}kg입니다.\".format(height,gender,weight))\n"
   ]
  }
 ],
 "metadata": {
  "kernelspec": {
   "display_name": "Python 3",
   "language": "python",
   "name": "python3"
  },
  "language_info": {
   "codemirror_mode": {
    "name": "ipython",
    "version": 3
   },
   "file_extension": ".py",
   "mimetype": "text/x-python",
   "name": "python",
   "nbconvert_exporter": "python",
   "pygments_lexer": "ipython3",
   "version": "3.8.8"
  }
 },
 "nbformat": 4,
 "nbformat_minor": 5
}
