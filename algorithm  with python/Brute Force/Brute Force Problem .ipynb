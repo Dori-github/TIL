{
 "cells": [
  {
   "cell_type": "markdown",
   "id": "b60952e1",
   "metadata": {},
   "source": [
    "## 모든 순열\n",
    "\n",
    "[문제]\n",
    "N이 주어졌을 때, 1부터 N까지의 수로 이루어진 순열을 사전순으로 출력하는 프로그램을 작성하시오.\n",
    "\n",
    "[입력]\n",
    "첫째 줄에 N(1 ≤ N ≤ 8)이 주어진다. \n",
    "\n",
    "[출력]\n",
    "첫째 줄부터 N!개의 줄에 걸쳐서 모든 순열을 사전순으로 출력한다."
   ]
  },
  {
   "cell_type": "code",
   "execution_count": 12,
   "id": "24fa4faf",
   "metadata": {},
   "outputs": [
    {
     "name": "stdout",
     "output_type": "stream",
     "text": [
      "3\n",
      "1 2 3 \n",
      "1 3 2 \n",
      "2 1 3 \n",
      "2 3 1 \n",
      "3 1 2 \n",
      "3 2 1 \n"
     ]
    }
   ],
   "source": [
    "from itertools import permutations #순열 함수\n",
    "\n",
    "n = int(input())\n",
    "n_list = [i for i in range(1, n+1)]\n",
    "\n",
    "numbers=list(permutations(n_list))\n",
    "\n",
    "for i in numbers:\n",
    "    for j in i:\n",
    "        print(j, end=' ')\n",
    "    print()"
   ]
  },
  {
   "cell_type": "markdown",
   "id": "a807d409",
   "metadata": {},
   "source": [
    "## 차이를 최대로"
   ]
  },
  {
   "cell_type": "markdown",
   "id": "3696712a",
   "metadata": {},
   "source": [
    "[문제]\n",
    "N개의 정수로 이루어진 배열 A가 주어진다.   \n",
    "이때, 배열에 들어있는 정수의 순서를 적절히 바꿔서 다음 식의 최댓값을 구하는 프로그램을 작성하시오.\n",
    "\n",
    "|A[0] - A[1]| + |A[1] - A[2]| + ... + |A[N-2] - A[N-1]|\n",
    "\n",
    "[입력]\n",
    "첫째 줄에 N (3 ≤ N ≤ 8)이 주어진다.  \n",
    "둘째 줄에는 배열 A에 들어있는 정수가 주어진다. 배열에 들어있는 정수는 -100보다 크거나 같고, 100보다 작거나 같다.\n",
    "\n",
    "[출력] \n",
    "첫째 줄에 배열에 들어있는 수의 순서를 적절히 바꿔서 얻을 수 있는 식의 최댓값을 출력한다.  "
   ]
  },
  {
   "cell_type": "code",
   "execution_count": 24,
   "id": "33dab6a9",
   "metadata": {},
   "outputs": [
    {
     "name": "stdout",
     "output_type": "stream",
     "text": [
      "6\n",
      "20 1 15 8 4 10\n",
      "62\n"
     ]
    }
   ],
   "source": [
    "from itertools import permutations\n",
    "\n",
    "# 주어진 값 입력 \n",
    "t=int(input())\n",
    "arr =permutations(list(map(int,input().split(' '))))\n",
    "ans = 0\n",
    "for a in arr:\n",
    "    temp = 0\n",
    "    for i in range(t-1):\n",
    "        temp+= abs(a[i]-a[i+1])\n",
    "    ans = max(ans, temp)\n",
    "print(ans) "
   ]
  },
  {
   "cell_type": "markdown",
   "id": "0870cda8",
   "metadata": {},
   "source": [
    "## 로또\n",
    "[문제]\n",
    "독일 로또는 {1, 2, ..., 49}에서 수 6개를 고른다.  \n",
    "\n",
    "로또 번호를 선택하는데 사용되는 가장 유명한 전략은 49가지 수 중 k(k>6)개의 수를 골라 집합 S를 만든 다음 그 수만 가지고 번호를 선택하는 것이다.  \n",
    "\n",
    "예를 들어, k=8, S={1,2,3,5,8,13,21,34}인 경우 이 집합 S에서 수를 고를 수 있는 경우의 수는 총 28가지이다.  ([1,2,3,5,8,13], [1,2,3,5,8,21], [1,2,3,5,8,34], [1,2,3,5,13,21], ..., [3,5,8,13,21,34])\n",
    "\n",
    "집합 S와 k가 주어졌을 때, 수를 고르는 모든 방법을 구하는 프로그램을 작성하시오.  \n",
    "\n",
    "[입력]\n",
    "입력은 여러 개의 테스트 케이스로 이루어져 있다. 각 테스트 케이스는 한 줄로 이루어져 있다. 첫 번째 수는 k (6 < k < 13)이고, 다음 k개 수는 집합 S에 포함되는 수이다. S의 원소는 오름차순으로 주어진다.\n",
    "\n",
    "입력의 마지막 줄에는 0이 하나 주어진다. \n",
    "\n",
    "[출력]\n",
    "각 테스트 케이스마다 수를 고르는 모든 방법을 출력한다. 이때, 사전 순으로 출력한다.  \n",
    "\n",
    "각 테스트 케이스 사이에는 빈 줄을 하나 출력한다.  "
   ]
  },
  {
   "cell_type": "code",
   "execution_count": 6,
   "id": "a500efc1",
   "metadata": {},
   "outputs": [
    {
     "name": "stdout",
     "output_type": "stream",
     "text": [
      "7 1 2 3 4 5 6 7\n",
      "1 2 3 4 5 6 \n",
      "1 2 3 4 5 7 \n",
      "1 2 3 4 6 7 \n",
      "1 2 3 5 6 7 \n",
      "1 2 4 5 6 7 \n",
      "1 3 4 5 6 7 \n",
      "2 3 4 5 6 7 \n",
      "\n",
      "8 1 2 3 5 8 13 21 34\n",
      "1 2 3 5 8 13 \n",
      "1 2 3 5 8 21 \n",
      "1 2 3 5 8 34 \n",
      "1 2 3 5 13 21 \n",
      "1 2 3 5 13 34 \n",
      "1 2 3 5 21 34 \n",
      "1 2 3 8 13 21 \n",
      "1 2 3 8 13 34 \n",
      "1 2 3 8 21 34 \n",
      "1 2 3 13 21 34 \n",
      "1 2 5 8 13 21 \n",
      "1 2 5 8 13 34 \n",
      "1 2 5 8 21 34 \n",
      "1 2 5 13 21 34 \n",
      "1 2 8 13 21 34 \n",
      "1 3 5 8 13 21 \n",
      "1 3 5 8 13 34 \n",
      "1 3 5 8 21 34 \n",
      "1 3 5 13 21 34 \n",
      "1 3 8 13 21 34 \n",
      "1 5 8 13 21 34 \n",
      "2 3 5 8 13 21 \n",
      "2 3 5 8 13 34 \n",
      "2 3 5 8 21 34 \n",
      "2 3 5 13 21 34 \n",
      "2 3 8 13 21 34 \n",
      "2 5 8 13 21 34 \n",
      "3 5 8 13 21 34 \n",
      "\n",
      "0\n"
     ]
    }
   ],
   "source": [
    "from itertools import combinations\n",
    "\n",
    "while True:\n",
    "    x = list(map(int, input().split()))\n",
    "    if x[0] == 0:\n",
    "        break\n",
    "    del x[0]\n",
    "    x = list(combinations(x, 6))\n",
    "    for i in x:\n",
    "        for j in i:\n",
    "            print(j, end=' ')\n",
    "        print()\n",
    "    print()"
   ]
  },
  {
   "cell_type": "code",
   "execution_count": null,
   "id": "767b5ab1",
   "metadata": {},
   "outputs": [],
   "source": []
  }
 ],
 "metadata": {
  "kernelspec": {
   "display_name": "Python 3",
   "language": "python",
   "name": "python3"
  },
  "language_info": {
   "codemirror_mode": {
    "name": "ipython",
    "version": 3
   },
   "file_extension": ".py",
   "mimetype": "text/x-python",
   "name": "python",
   "nbconvert_exporter": "python",
   "pygments_lexer": "ipython3",
   "version": "3.8.8"
  }
 },
 "nbformat": 4,
 "nbformat_minor": 5
}
