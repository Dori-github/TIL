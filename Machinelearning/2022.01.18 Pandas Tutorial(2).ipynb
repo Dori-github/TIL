{
 "cells": [
  {
   "cell_type": "markdown",
   "id": "0183e381",
   "metadata": {},
   "source": [
    "# Pandas Tutorial(2)"
   ]
  },
  {
   "cell_type": "markdown",
   "id": "83475387",
   "metadata": {},
   "source": [
    "https://github.com/adeshpande3/Pandas-Tutorial/blob/master/Pandas%20Tutorial.ipynb 의 자료를 기반으로 작성함."
   ]
  },
  {
   "cell_type": "code",
   "execution_count": 14,
   "id": "0f34e7cf",
   "metadata": {},
   "outputs": [],
   "source": [
    "import pandas as pd"
   ]
  },
  {
   "cell_type": "markdown",
   "id": "9f1c9bf1",
   "metadata": {},
   "source": [
    "## 데이터 프레임 다루기"
   ]
  },
  {
   "cell_type": "code",
   "execution_count": 31,
   "id": "04638506",
   "metadata": {},
   "outputs": [
    {
     "data": {
      "text/html": [
       "<div>\n",
       "<style scoped>\n",
       "    .dataframe tbody tr th:only-of-type {\n",
       "        vertical-align: middle;\n",
       "    }\n",
       "\n",
       "    .dataframe tbody tr th {\n",
       "        vertical-align: top;\n",
       "    }\n",
       "\n",
       "    .dataframe thead th {\n",
       "        text-align: right;\n",
       "    }\n",
       "</style>\n",
       "<table border=\"1\" class=\"dataframe\">\n",
       "  <thead>\n",
       "    <tr style=\"text-align: right;\">\n",
       "      <th></th>\n",
       "      <th>Name</th>\n",
       "      <th>Group</th>\n",
       "      <th>Age</th>\n",
       "    </tr>\n",
       "  </thead>\n",
       "  <tbody>\n",
       "    <tr>\n",
       "      <th>0</th>\n",
       "      <td>예리</td>\n",
       "      <td>레드벨벳</td>\n",
       "      <td>24</td>\n",
       "    </tr>\n",
       "    <tr>\n",
       "      <th>1</th>\n",
       "      <td>장원영</td>\n",
       "      <td>아이브</td>\n",
       "      <td>19</td>\n",
       "    </tr>\n",
       "    <tr>\n",
       "      <th>2</th>\n",
       "      <td>안유진</td>\n",
       "      <td>아이브</td>\n",
       "      <td>20</td>\n",
       "    </tr>\n",
       "    <tr>\n",
       "      <th>3</th>\n",
       "      <td>나연</td>\n",
       "      <td>트와이스</td>\n",
       "      <td>28</td>\n",
       "    </tr>\n",
       "    <tr>\n",
       "      <th>4</th>\n",
       "      <td>모모</td>\n",
       "      <td>트와이스</td>\n",
       "      <td>26</td>\n",
       "    </tr>\n",
       "    <tr>\n",
       "      <th>5</th>\n",
       "      <td>채령</td>\n",
       "      <td>있지</td>\n",
       "      <td>22</td>\n",
       "    </tr>\n",
       "    <tr>\n",
       "      <th>6</th>\n",
       "      <td>카리나</td>\n",
       "      <td>에스파</td>\n",
       "      <td>23</td>\n",
       "    </tr>\n",
       "    <tr>\n",
       "      <th>7</th>\n",
       "      <td>지수</td>\n",
       "      <td>블랙핑크</td>\n",
       "      <td>28</td>\n",
       "    </tr>\n",
       "    <tr>\n",
       "      <th>8</th>\n",
       "      <td>윤</td>\n",
       "      <td>스테이씨</td>\n",
       "      <td>19</td>\n",
       "    </tr>\n",
       "    <tr>\n",
       "      <th>9</th>\n",
       "      <td>다영</td>\n",
       "      <td>우주소녀</td>\n",
       "      <td>24</td>\n",
       "    </tr>\n",
       "  </tbody>\n",
       "</table>\n",
       "</div>"
      ],
      "text/plain": [
       "  Name Group  Age\n",
       "0   예리  레드벨벳   24\n",
       "1  장원영   아이브   19\n",
       "2  안유진   아이브   20\n",
       "3   나연  트와이스   28\n",
       "4   모모  트와이스   26\n",
       "5   채령    있지   22\n",
       "6  카리나   에스파   23\n",
       "7   지수  블랙핑크   28\n",
       "8    윤  스테이씨   19\n",
       "9   다영  우주소녀   24"
      ]
     },
     "execution_count": 31,
     "metadata": {},
     "output_type": "execute_result"
    }
   ],
   "source": [
    "d = {'Name':['예리','장원영','안유진','나연',\n",
    "            '모모','채령','카리나','지수','윤','다영'],\n",
    "    'Group':['레드벨벳','아이브','아이브','트와이스','트와이스',\n",
    "             '있지','에스파','블랙핑크','스테이씨','우주소녀'],\n",
    "    'Age':[24,19,20,28,26,22,23,28,19,24]}\n",
    "    \n",
    "\n",
    "df = pd.DataFrame(d)\n",
    "df\n"
   ]
  },
  {
   "cell_type": "code",
   "execution_count": 32,
   "id": "a88e088d",
   "metadata": {},
   "outputs": [
    {
     "data": {
      "text/plain": [
       "0    24\n",
       "1    19\n",
       "2    20\n",
       "3    28\n",
       "4    26\n",
       "5    22\n",
       "6    23\n",
       "7    28\n",
       "8    19\n",
       "9    24\n",
       "Name: Age, dtype: int64"
      ]
     },
     "execution_count": 32,
     "metadata": {},
     "output_type": "execute_result"
    }
   ],
   "source": [
    "df['Age']"
   ]
  },
  {
   "cell_type": "markdown",
   "id": "7030c6de",
   "metadata": {},
   "source": [
    "## 행과 열을 추출하기"
   ]
  },
  {
   "cell_type": "markdown",
   "id": "6ec52050",
   "metadata": {},
   "source": [
    "두 개 이상의 열을 반환하고 싶으면 아래와 같이 리스트 형태로 인덱싱 한다."
   ]
  },
  {
   "cell_type": "code",
   "execution_count": 33,
   "id": "fdd1ab6c",
   "metadata": {},
   "outputs": [
    {
     "data": {
      "text/html": [
       "<div>\n",
       "<style scoped>\n",
       "    .dataframe tbody tr th:only-of-type {\n",
       "        vertical-align: middle;\n",
       "    }\n",
       "\n",
       "    .dataframe tbody tr th {\n",
       "        vertical-align: top;\n",
       "    }\n",
       "\n",
       "    .dataframe thead th {\n",
       "        text-align: right;\n",
       "    }\n",
       "</style>\n",
       "<table border=\"1\" class=\"dataframe\">\n",
       "  <thead>\n",
       "    <tr style=\"text-align: right;\">\n",
       "      <th></th>\n",
       "      <th>Name</th>\n",
       "      <th>Age</th>\n",
       "    </tr>\n",
       "  </thead>\n",
       "  <tbody>\n",
       "    <tr>\n",
       "      <th>0</th>\n",
       "      <td>예리</td>\n",
       "      <td>24</td>\n",
       "    </tr>\n",
       "    <tr>\n",
       "      <th>1</th>\n",
       "      <td>장원영</td>\n",
       "      <td>19</td>\n",
       "    </tr>\n",
       "    <tr>\n",
       "      <th>2</th>\n",
       "      <td>안유진</td>\n",
       "      <td>20</td>\n",
       "    </tr>\n",
       "    <tr>\n",
       "      <th>3</th>\n",
       "      <td>나연</td>\n",
       "      <td>28</td>\n",
       "    </tr>\n",
       "    <tr>\n",
       "      <th>4</th>\n",
       "      <td>모모</td>\n",
       "      <td>26</td>\n",
       "    </tr>\n",
       "    <tr>\n",
       "      <th>5</th>\n",
       "      <td>채령</td>\n",
       "      <td>22</td>\n",
       "    </tr>\n",
       "    <tr>\n",
       "      <th>6</th>\n",
       "      <td>카리나</td>\n",
       "      <td>23</td>\n",
       "    </tr>\n",
       "    <tr>\n",
       "      <th>7</th>\n",
       "      <td>지수</td>\n",
       "      <td>28</td>\n",
       "    </tr>\n",
       "    <tr>\n",
       "      <th>8</th>\n",
       "      <td>윤</td>\n",
       "      <td>19</td>\n",
       "    </tr>\n",
       "    <tr>\n",
       "      <th>9</th>\n",
       "      <td>다영</td>\n",
       "      <td>24</td>\n",
       "    </tr>\n",
       "  </tbody>\n",
       "</table>\n",
       "</div>"
      ],
      "text/plain": [
       "  Name  Age\n",
       "0   예리   24\n",
       "1  장원영   19\n",
       "2  안유진   20\n",
       "3   나연   28\n",
       "4   모모   26\n",
       "5   채령   22\n",
       "6  카리나   23\n",
       "7   지수   28\n",
       "8    윤   19\n",
       "9   다영   24"
      ]
     },
     "execution_count": 33,
     "metadata": {},
     "output_type": "execute_result"
    }
   ],
   "source": [
    "df[['Name','Age']]"
   ]
  },
  {
   "cell_type": "markdown",
   "id": "3313b395",
   "metadata": {},
   "source": [
    "인덱싱을 할 `[]` 안에 하나의 값을 쓰느냐, 리스트 형태를 쓰느냐에 따라 반환되는 값의 타입이 달라진다.하나 갑승ㄹ 쓰는 경우는 시리즈를, 리스트 형태를 쓰면 데이터프레임을 반환한다."
   ]
  },
  {
   "cell_type": "code",
   "execution_count": 34,
   "id": "925939c8",
   "metadata": {},
   "outputs": [
    {
     "data": {
      "text/plain": [
       "pandas.core.series.Series"
      ]
     },
     "execution_count": 34,
     "metadata": {},
     "output_type": "execute_result"
    }
   ],
   "source": [
    "type(df['Name'])"
   ]
  },
  {
   "cell_type": "code",
   "execution_count": 35,
   "id": "453c5fea",
   "metadata": {},
   "outputs": [
    {
     "data": {
      "text/plain": [
       "pandas.core.frame.DataFrame"
      ]
     },
     "execution_count": 35,
     "metadata": {},
     "output_type": "execute_result"
    }
   ],
   "source": [
    "type(df[['Name']])"
   ]
  },
  {
   "cell_type": "markdown",
   "id": "5491e7eb",
   "metadata": {},
   "source": [
    "`[]` 안에 열 이름이 아닌 숫자를 쓰면 행 반환이 가능하다. 단 이 경우는 슬라이싱만 가능하다."
   ]
  },
  {
   "cell_type": "code",
   "execution_count": 36,
   "id": "7eaef0ac",
   "metadata": {},
   "outputs": [
    {
     "data": {
      "text/html": [
       "<div>\n",
       "<style scoped>\n",
       "    .dataframe tbody tr th:only-of-type {\n",
       "        vertical-align: middle;\n",
       "    }\n",
       "\n",
       "    .dataframe tbody tr th {\n",
       "        vertical-align: top;\n",
       "    }\n",
       "\n",
       "    .dataframe thead th {\n",
       "        text-align: right;\n",
       "    }\n",
       "</style>\n",
       "<table border=\"1\" class=\"dataframe\">\n",
       "  <thead>\n",
       "    <tr style=\"text-align: right;\">\n",
       "      <th></th>\n",
       "      <th>Name</th>\n",
       "      <th>Group</th>\n",
       "      <th>Age</th>\n",
       "    </tr>\n",
       "  </thead>\n",
       "  <tbody>\n",
       "    <tr>\n",
       "      <th>0</th>\n",
       "      <td>예리</td>\n",
       "      <td>레드벨벳</td>\n",
       "      <td>24</td>\n",
       "    </tr>\n",
       "    <tr>\n",
       "      <th>1</th>\n",
       "      <td>장원영</td>\n",
       "      <td>아이브</td>\n",
       "      <td>19</td>\n",
       "    </tr>\n",
       "    <tr>\n",
       "      <th>2</th>\n",
       "      <td>안유진</td>\n",
       "      <td>아이브</td>\n",
       "      <td>20</td>\n",
       "    </tr>\n",
       "  </tbody>\n",
       "</table>\n",
       "</div>"
      ],
      "text/plain": [
       "  Name Group  Age\n",
       "0   예리  레드벨벳   24\n",
       "1  장원영   아이브   19\n",
       "2  안유진   아이브   20"
      ]
     },
     "execution_count": 36,
     "metadata": {},
     "output_type": "execute_result"
    }
   ],
   "source": [
    "df[0:3] #df[2]는 에러"
   ]
  },
  {
   "cell_type": "markdown",
   "id": "2babaacc",
   "metadata": {},
   "source": [
    "## loc,iloc을 이용한 인덱싱과 슬라이싱"
   ]
  },
  {
   "cell_type": "markdown",
   "id": "d0a186ad",
   "metadata": {},
   "source": [
    "loc과 iloc 모두 행(row)이나 열(column)을 인덱싱 하기 위한 함수다.\n",
    "- iloc은 numpy 인덱싱과 유사하게 작동하며, 저장된 순서에 따라 0부터 정수로 인덱싱, 슬라이싱이 가능하다.  \n",
    "- loc은 데이터프레임에 정의된 index에 대해 인덱싱이 작동한다.\n",
    "슬라이싱의 경우 loc은 index 값 크기와 무관하게 순서에 따라 슬라이싱이 작동한다.\n"
   ]
  },
  {
   "cell_type": "markdown",
   "id": "8004c2dd",
   "metadata": {},
   "source": [
    "**iloc은 위치를 보고 loc은 라벨을 본다.**"
   ]
  },
  {
   "cell_type": "code",
   "execution_count": 39,
   "id": "4f81433c",
   "metadata": {},
   "outputs": [
    {
     "data": {
      "text/html": [
       "<div>\n",
       "<style scoped>\n",
       "    .dataframe tbody tr th:only-of-type {\n",
       "        vertical-align: middle;\n",
       "    }\n",
       "\n",
       "    .dataframe tbody tr th {\n",
       "        vertical-align: top;\n",
       "    }\n",
       "\n",
       "    .dataframe thead th {\n",
       "        text-align: right;\n",
       "    }\n",
       "</style>\n",
       "<table border=\"1\" class=\"dataframe\">\n",
       "  <thead>\n",
       "    <tr style=\"text-align: right;\">\n",
       "      <th></th>\n",
       "      <th>Name</th>\n",
       "      <th>Group</th>\n",
       "      <th>Age</th>\n",
       "    </tr>\n",
       "  </thead>\n",
       "  <tbody>\n",
       "    <tr>\n",
       "      <th>1</th>\n",
       "      <td>장원영</td>\n",
       "      <td>아이브</td>\n",
       "      <td>19.0</td>\n",
       "    </tr>\n",
       "    <tr>\n",
       "      <th>4</th>\n",
       "      <td>모모</td>\n",
       "      <td>트와이스</td>\n",
       "      <td>26.0</td>\n",
       "    </tr>\n",
       "    <tr>\n",
       "      <th>6</th>\n",
       "      <td>카리나</td>\n",
       "      <td>에스파</td>\n",
       "      <td>23.0</td>\n",
       "    </tr>\n",
       "    <tr>\n",
       "      <th>2</th>\n",
       "      <td>안유진</td>\n",
       "      <td>아이브</td>\n",
       "      <td>20.0</td>\n",
       "    </tr>\n",
       "    <tr>\n",
       "      <th>3</th>\n",
       "      <td>나연</td>\n",
       "      <td>트와이스</td>\n",
       "      <td>28.0</td>\n",
       "    </tr>\n",
       "    <tr>\n",
       "      <th>5</th>\n",
       "      <td>채령</td>\n",
       "      <td>있지</td>\n",
       "      <td>22.0</td>\n",
       "    </tr>\n",
       "    <tr>\n",
       "      <th>9</th>\n",
       "      <td>다영</td>\n",
       "      <td>우주소녀</td>\n",
       "      <td>24.0</td>\n",
       "    </tr>\n",
       "    <tr>\n",
       "      <th>8</th>\n",
       "      <td>윤</td>\n",
       "      <td>스테이씨</td>\n",
       "      <td>19.0</td>\n",
       "    </tr>\n",
       "    <tr>\n",
       "      <th>0</th>\n",
       "      <td>예리</td>\n",
       "      <td>레드벨벳</td>\n",
       "      <td>24.0</td>\n",
       "    </tr>\n",
       "    <tr>\n",
       "      <th>7</th>\n",
       "      <td>지수</td>\n",
       "      <td>블랙핑크</td>\n",
       "      <td>28.0</td>\n",
       "    </tr>\n",
       "  </tbody>\n",
       "</table>\n",
       "</div>"
      ],
      "text/plain": [
       "  Name Group   Age\n",
       "1  장원영   아이브  19.0\n",
       "4   모모  트와이스  26.0\n",
       "6  카리나   에스파  23.0\n",
       "2  안유진   아이브  20.0\n",
       "3   나연  트와이스  28.0\n",
       "5   채령    있지  22.0\n",
       "9   다영  우주소녀  24.0\n",
       "8    윤  스테이씨  19.0\n",
       "0   예리  레드벨벳  24.0\n",
       "7   지수  블랙핑크  28.0"
      ]
     },
     "execution_count": 39,
     "metadata": {},
     "output_type": "execute_result"
    }
   ],
   "source": [
    "df=df.reindex([1,4,6,2,3,5,9,8,0,7]) #인덱스를 부여\n",
    "df"
   ]
  },
  {
   "cell_type": "code",
   "execution_count": 40,
   "id": "6a570015",
   "metadata": {},
   "outputs": [
    {
     "data": {
      "text/html": [
       "<div>\n",
       "<style scoped>\n",
       "    .dataframe tbody tr th:only-of-type {\n",
       "        vertical-align: middle;\n",
       "    }\n",
       "\n",
       "    .dataframe tbody tr th {\n",
       "        vertical-align: top;\n",
       "    }\n",
       "\n",
       "    .dataframe thead th {\n",
       "        text-align: right;\n",
       "    }\n",
       "</style>\n",
       "<table border=\"1\" class=\"dataframe\">\n",
       "  <thead>\n",
       "    <tr style=\"text-align: right;\">\n",
       "      <th></th>\n",
       "      <th>Name</th>\n",
       "      <th>Group</th>\n",
       "      <th>Age</th>\n",
       "    </tr>\n",
       "  </thead>\n",
       "  <tbody>\n",
       "    <tr>\n",
       "      <th>1</th>\n",
       "      <td>장원영</td>\n",
       "      <td>아이브</td>\n",
       "      <td>19.0</td>\n",
       "    </tr>\n",
       "    <tr>\n",
       "      <th>4</th>\n",
       "      <td>모모</td>\n",
       "      <td>트와이스</td>\n",
       "      <td>26.0</td>\n",
       "    </tr>\n",
       "    <tr>\n",
       "      <th>6</th>\n",
       "      <td>카리나</td>\n",
       "      <td>에스파</td>\n",
       "      <td>23.0</td>\n",
       "    </tr>\n",
       "  </tbody>\n",
       "</table>\n",
       "</div>"
      ],
      "text/plain": [
       "  Name Group   Age\n",
       "1  장원영   아이브  19.0\n",
       "4   모모  트와이스  26.0\n",
       "6  카리나   에스파  23.0"
      ]
     },
     "execution_count": 40,
     "metadata": {},
     "output_type": "execute_result"
    }
   ],
   "source": [
    "df.loc[:6]"
   ]
  },
  {
   "cell_type": "markdown",
   "id": "721642de",
   "metadata": {},
   "source": [
    "`iloc` 과 `loc`의 중요한 차이 점은, loc은 인덱싱 하는 값을 포함하여 결과를 반환한다는 것이다."
   ]
  },
  {
   "cell_type": "code",
   "execution_count": 41,
   "id": "3a30c01d",
   "metadata": {},
   "outputs": [
    {
     "data": {
      "text/html": [
       "<div>\n",
       "<style scoped>\n",
       "    .dataframe tbody tr th:only-of-type {\n",
       "        vertical-align: middle;\n",
       "    }\n",
       "\n",
       "    .dataframe tbody tr th {\n",
       "        vertical-align: top;\n",
       "    }\n",
       "\n",
       "    .dataframe thead th {\n",
       "        text-align: right;\n",
       "    }\n",
       "</style>\n",
       "<table border=\"1\" class=\"dataframe\">\n",
       "  <thead>\n",
       "    <tr style=\"text-align: right;\">\n",
       "      <th></th>\n",
       "      <th>Name</th>\n",
       "      <th>Group</th>\n",
       "      <th>Age</th>\n",
       "    </tr>\n",
       "  </thead>\n",
       "  <tbody>\n",
       "    <tr>\n",
       "      <th>1</th>\n",
       "      <td>장원영</td>\n",
       "      <td>아이브</td>\n",
       "      <td>19.0</td>\n",
       "    </tr>\n",
       "    <tr>\n",
       "      <th>4</th>\n",
       "      <td>모모</td>\n",
       "      <td>트와이스</td>\n",
       "      <td>26.0</td>\n",
       "    </tr>\n",
       "    <tr>\n",
       "      <th>6</th>\n",
       "      <td>카리나</td>\n",
       "      <td>에스파</td>\n",
       "      <td>23.0</td>\n",
       "    </tr>\n",
       "    <tr>\n",
       "      <th>2</th>\n",
       "      <td>안유진</td>\n",
       "      <td>아이브</td>\n",
       "      <td>20.0</td>\n",
       "    </tr>\n",
       "    <tr>\n",
       "      <th>3</th>\n",
       "      <td>나연</td>\n",
       "      <td>트와이스</td>\n",
       "      <td>28.0</td>\n",
       "    </tr>\n",
       "    <tr>\n",
       "      <th>5</th>\n",
       "      <td>채령</td>\n",
       "      <td>있지</td>\n",
       "      <td>22.0</td>\n",
       "    </tr>\n",
       "  </tbody>\n",
       "</table>\n",
       "</div>"
      ],
      "text/plain": [
       "  Name Group   Age\n",
       "1  장원영   아이브  19.0\n",
       "4   모모  트와이스  26.0\n",
       "6  카리나   에스파  23.0\n",
       "2  안유진   아이브  20.0\n",
       "3   나연  트와이스  28.0\n",
       "5   채령    있지  22.0"
      ]
     },
     "execution_count": 41,
     "metadata": {},
     "output_type": "execute_result"
    }
   ],
   "source": [
    "df.iloc[:6]"
   ]
  },
  {
   "cell_type": "code",
   "execution_count": 42,
   "id": "7a9a0c83",
   "metadata": {},
   "outputs": [
    {
     "data": {
      "text/html": [
       "<div>\n",
       "<style scoped>\n",
       "    .dataframe tbody tr th:only-of-type {\n",
       "        vertical-align: middle;\n",
       "    }\n",
       "\n",
       "    .dataframe tbody tr th {\n",
       "        vertical-align: top;\n",
       "    }\n",
       "\n",
       "    .dataframe thead th {\n",
       "        text-align: right;\n",
       "    }\n",
       "</style>\n",
       "<table border=\"1\" class=\"dataframe\">\n",
       "  <thead>\n",
       "    <tr style=\"text-align: right;\">\n",
       "      <th></th>\n",
       "      <th>Name</th>\n",
       "      <th>Group</th>\n",
       "      <th>Age</th>\n",
       "    </tr>\n",
       "  </thead>\n",
       "  <tbody>\n",
       "    <tr>\n",
       "      <th>0</th>\n",
       "      <td>예리</td>\n",
       "      <td>레드벨벳</td>\n",
       "      <td>24.0</td>\n",
       "    </tr>\n",
       "    <tr>\n",
       "      <th>1</th>\n",
       "      <td>장원영</td>\n",
       "      <td>아이브</td>\n",
       "      <td>19.0</td>\n",
       "    </tr>\n",
       "    <tr>\n",
       "      <th>2</th>\n",
       "      <td>안유진</td>\n",
       "      <td>아이브</td>\n",
       "      <td>20.0</td>\n",
       "    </tr>\n",
       "    <tr>\n",
       "      <th>3</th>\n",
       "      <td>나연</td>\n",
       "      <td>트와이스</td>\n",
       "      <td>28.0</td>\n",
       "    </tr>\n",
       "    <tr>\n",
       "      <th>4</th>\n",
       "      <td>모모</td>\n",
       "      <td>트와이스</td>\n",
       "      <td>26.0</td>\n",
       "    </tr>\n",
       "    <tr>\n",
       "      <th>5</th>\n",
       "      <td>채령</td>\n",
       "      <td>있지</td>\n",
       "      <td>22.0</td>\n",
       "    </tr>\n",
       "    <tr>\n",
       "      <th>6</th>\n",
       "      <td>카리나</td>\n",
       "      <td>에스파</td>\n",
       "      <td>23.0</td>\n",
       "    </tr>\n",
       "    <tr>\n",
       "      <th>7</th>\n",
       "      <td>지수</td>\n",
       "      <td>블랙핑크</td>\n",
       "      <td>28.0</td>\n",
       "    </tr>\n",
       "    <tr>\n",
       "      <th>8</th>\n",
       "      <td>윤</td>\n",
       "      <td>스테이씨</td>\n",
       "      <td>19.0</td>\n",
       "    </tr>\n",
       "    <tr>\n",
       "      <th>9</th>\n",
       "      <td>다영</td>\n",
       "      <td>우주소녀</td>\n",
       "      <td>24.0</td>\n",
       "    </tr>\n",
       "  </tbody>\n",
       "</table>\n",
       "</div>"
      ],
      "text/plain": [
       "  Name Group   Age\n",
       "0   예리  레드벨벳  24.0\n",
       "1  장원영   아이브  19.0\n",
       "2  안유진   아이브  20.0\n",
       "3   나연  트와이스  28.0\n",
       "4   모모  트와이스  26.0\n",
       "5   채령    있지  22.0\n",
       "6  카리나   에스파  23.0\n",
       "7   지수  블랙핑크  28.0\n",
       "8    윤  스테이씨  19.0\n",
       "9   다영  우주소녀  24.0"
      ]
     },
     "execution_count": 42,
     "metadata": {},
     "output_type": "execute_result"
    }
   ],
   "source": [
    "# sort the pandas dataframe by index ascending\n",
    " \n",
    "df1=df.sort_index()\n",
    "df1"
   ]
  },
  {
   "cell_type": "code",
   "execution_count": 43,
   "id": "932fab40",
   "metadata": {},
   "outputs": [
    {
     "data": {
      "text/html": [
       "<div>\n",
       "<style scoped>\n",
       "    .dataframe tbody tr th:only-of-type {\n",
       "        vertical-align: middle;\n",
       "    }\n",
       "\n",
       "    .dataframe tbody tr th {\n",
       "        vertical-align: top;\n",
       "    }\n",
       "\n",
       "    .dataframe thead th {\n",
       "        text-align: right;\n",
       "    }\n",
       "</style>\n",
       "<table border=\"1\" class=\"dataframe\">\n",
       "  <thead>\n",
       "    <tr style=\"text-align: right;\">\n",
       "      <th></th>\n",
       "      <th>Name</th>\n",
       "      <th>Group</th>\n",
       "      <th>Age</th>\n",
       "    </tr>\n",
       "  </thead>\n",
       "  <tbody>\n",
       "    <tr>\n",
       "      <th>0</th>\n",
       "      <td>예리</td>\n",
       "      <td>레드벨벳</td>\n",
       "      <td>24.0</td>\n",
       "    </tr>\n",
       "    <tr>\n",
       "      <th>1</th>\n",
       "      <td>장원영</td>\n",
       "      <td>아이브</td>\n",
       "      <td>19.0</td>\n",
       "    </tr>\n",
       "    <tr>\n",
       "      <th>2</th>\n",
       "      <td>안유진</td>\n",
       "      <td>아이브</td>\n",
       "      <td>20.0</td>\n",
       "    </tr>\n",
       "    <tr>\n",
       "      <th>3</th>\n",
       "      <td>나연</td>\n",
       "      <td>트와이스</td>\n",
       "      <td>28.0</td>\n",
       "    </tr>\n",
       "    <tr>\n",
       "      <th>4</th>\n",
       "      <td>모모</td>\n",
       "      <td>트와이스</td>\n",
       "      <td>26.0</td>\n",
       "    </tr>\n",
       "    <tr>\n",
       "      <th>5</th>\n",
       "      <td>채령</td>\n",
       "      <td>있지</td>\n",
       "      <td>22.0</td>\n",
       "    </tr>\n",
       "  </tbody>\n",
       "</table>\n",
       "</div>"
      ],
      "text/plain": [
       "  Name Group   Age\n",
       "0   예리  레드벨벳  24.0\n",
       "1  장원영   아이브  19.0\n",
       "2  안유진   아이브  20.0\n",
       "3   나연  트와이스  28.0\n",
       "4   모모  트와이스  26.0\n",
       "5   채령    있지  22.0"
      ]
     },
     "execution_count": 43,
     "metadata": {},
     "output_type": "execute_result"
    }
   ],
   "source": [
    "df1.iloc[:6]"
   ]
  },
  {
   "cell_type": "code",
   "execution_count": 44,
   "id": "0464a01c",
   "metadata": {},
   "outputs": [
    {
     "data": {
      "text/html": [
       "<div>\n",
       "<style scoped>\n",
       "    .dataframe tbody tr th:only-of-type {\n",
       "        vertical-align: middle;\n",
       "    }\n",
       "\n",
       "    .dataframe tbody tr th {\n",
       "        vertical-align: top;\n",
       "    }\n",
       "\n",
       "    .dataframe thead th {\n",
       "        text-align: right;\n",
       "    }\n",
       "</style>\n",
       "<table border=\"1\" class=\"dataframe\">\n",
       "  <thead>\n",
       "    <tr style=\"text-align: right;\">\n",
       "      <th></th>\n",
       "      <th>Name</th>\n",
       "      <th>Group</th>\n",
       "      <th>Age</th>\n",
       "    </tr>\n",
       "  </thead>\n",
       "  <tbody>\n",
       "    <tr>\n",
       "      <th>0</th>\n",
       "      <td>예리</td>\n",
       "      <td>레드벨벳</td>\n",
       "      <td>24.0</td>\n",
       "    </tr>\n",
       "    <tr>\n",
       "      <th>1</th>\n",
       "      <td>장원영</td>\n",
       "      <td>아이브</td>\n",
       "      <td>19.0</td>\n",
       "    </tr>\n",
       "    <tr>\n",
       "      <th>2</th>\n",
       "      <td>안유진</td>\n",
       "      <td>아이브</td>\n",
       "      <td>20.0</td>\n",
       "    </tr>\n",
       "    <tr>\n",
       "      <th>3</th>\n",
       "      <td>나연</td>\n",
       "      <td>트와이스</td>\n",
       "      <td>28.0</td>\n",
       "    </tr>\n",
       "    <tr>\n",
       "      <th>4</th>\n",
       "      <td>모모</td>\n",
       "      <td>트와이스</td>\n",
       "      <td>26.0</td>\n",
       "    </tr>\n",
       "    <tr>\n",
       "      <th>5</th>\n",
       "      <td>채령</td>\n",
       "      <td>있지</td>\n",
       "      <td>22.0</td>\n",
       "    </tr>\n",
       "    <tr>\n",
       "      <th>6</th>\n",
       "      <td>카리나</td>\n",
       "      <td>에스파</td>\n",
       "      <td>23.0</td>\n",
       "    </tr>\n",
       "  </tbody>\n",
       "</table>\n",
       "</div>"
      ],
      "text/plain": [
       "  Name Group   Age\n",
       "0   예리  레드벨벳  24.0\n",
       "1  장원영   아이브  19.0\n",
       "2  안유진   아이브  20.0\n",
       "3   나연  트와이스  28.0\n",
       "4   모모  트와이스  26.0\n",
       "5   채령    있지  22.0\n",
       "6  카리나   에스파  23.0"
      ]
     },
     "execution_count": 44,
     "metadata": {},
     "output_type": "execute_result"
    }
   ],
   "source": [
    "df1.loc[:6] #인덱싱 값을 포함하여 반환"
   ]
  },
  {
   "cell_type": "code",
   "execution_count": 45,
   "id": "7e0c539b",
   "metadata": {},
   "outputs": [
    {
     "data": {
      "text/html": [
       "<div>\n",
       "<style scoped>\n",
       "    .dataframe tbody tr th:only-of-type {\n",
       "        vertical-align: middle;\n",
       "    }\n",
       "\n",
       "    .dataframe tbody tr th {\n",
       "        vertical-align: top;\n",
       "    }\n",
       "\n",
       "    .dataframe thead th {\n",
       "        text-align: right;\n",
       "    }\n",
       "</style>\n",
       "<table border=\"1\" class=\"dataframe\">\n",
       "  <thead>\n",
       "    <tr style=\"text-align: right;\">\n",
       "      <th></th>\n",
       "      <th>Name</th>\n",
       "      <th>Group</th>\n",
       "      <th>Age</th>\n",
       "    </tr>\n",
       "  </thead>\n",
       "  <tbody>\n",
       "    <tr>\n",
       "      <th>9</th>\n",
       "      <td>다영</td>\n",
       "      <td>우주소녀</td>\n",
       "      <td>24.0</td>\n",
       "    </tr>\n",
       "    <tr>\n",
       "      <th>8</th>\n",
       "      <td>윤</td>\n",
       "      <td>스테이씨</td>\n",
       "      <td>19.0</td>\n",
       "    </tr>\n",
       "    <tr>\n",
       "      <th>7</th>\n",
       "      <td>지수</td>\n",
       "      <td>블랙핑크</td>\n",
       "      <td>28.0</td>\n",
       "    </tr>\n",
       "    <tr>\n",
       "      <th>6</th>\n",
       "      <td>카리나</td>\n",
       "      <td>에스파</td>\n",
       "      <td>23.0</td>\n",
       "    </tr>\n",
       "    <tr>\n",
       "      <th>5</th>\n",
       "      <td>채령</td>\n",
       "      <td>있지</td>\n",
       "      <td>22.0</td>\n",
       "    </tr>\n",
       "    <tr>\n",
       "      <th>4</th>\n",
       "      <td>모모</td>\n",
       "      <td>트와이스</td>\n",
       "      <td>26.0</td>\n",
       "    </tr>\n",
       "    <tr>\n",
       "      <th>3</th>\n",
       "      <td>나연</td>\n",
       "      <td>트와이스</td>\n",
       "      <td>28.0</td>\n",
       "    </tr>\n",
       "    <tr>\n",
       "      <th>2</th>\n",
       "      <td>안유진</td>\n",
       "      <td>아이브</td>\n",
       "      <td>20.0</td>\n",
       "    </tr>\n",
       "    <tr>\n",
       "      <th>1</th>\n",
       "      <td>장원영</td>\n",
       "      <td>아이브</td>\n",
       "      <td>19.0</td>\n",
       "    </tr>\n",
       "    <tr>\n",
       "      <th>0</th>\n",
       "      <td>예리</td>\n",
       "      <td>레드벨벳</td>\n",
       "      <td>24.0</td>\n",
       "    </tr>\n",
       "  </tbody>\n",
       "</table>\n",
       "</div>"
      ],
      "text/plain": [
       "  Name Group   Age\n",
       "9   다영  우주소녀  24.0\n",
       "8    윤  스테이씨  19.0\n",
       "7   지수  블랙핑크  28.0\n",
       "6  카리나   에스파  23.0\n",
       "5   채령    있지  22.0\n",
       "4   모모  트와이스  26.0\n",
       "3   나연  트와이스  28.0\n",
       "2  안유진   아이브  20.0\n",
       "1  장원영   아이브  19.0\n",
       "0   예리  레드벨벳  24.0"
      ]
     },
     "execution_count": 45,
     "metadata": {},
     "output_type": "execute_result"
    }
   ],
   "source": [
    "# sort the pandas dataframe by index descending\n",
    "\n",
    "df2 = df.sort_index(ascending=False)\n",
    "df2"
   ]
  },
  {
   "cell_type": "markdown",
   "id": "431b2ac4",
   "metadata": {},
   "source": [
    "## loc과 iloc을 이용해 열(column) 추출하기"
   ]
  },
  {
   "cell_type": "code",
   "execution_count": 48,
   "id": "301395bd",
   "metadata": {},
   "outputs": [
    {
     "data": {
      "text/plain": [
       "9    24.0\n",
       "8    19.0\n",
       "7    28.0\n",
       "6    23.0\n",
       "5    22.0\n",
       "4    26.0\n",
       "3    28.0\n",
       "2    20.0\n",
       "1    19.0\n",
       "0    24.0\n",
       "Name: Age, dtype: float64"
      ]
     },
     "execution_count": 48,
     "metadata": {},
     "output_type": "execute_result"
    }
   ],
   "source": [
    "df2.iloc[:,2] #2번째 열을 추출 "
   ]
  },
  {
   "cell_type": "code",
   "execution_count": 50,
   "id": "45c07214",
   "metadata": {},
   "outputs": [
    {
     "data": {
      "text/html": [
       "<div>\n",
       "<style scoped>\n",
       "    .dataframe tbody tr th:only-of-type {\n",
       "        vertical-align: middle;\n",
       "    }\n",
       "\n",
       "    .dataframe tbody tr th {\n",
       "        vertical-align: top;\n",
       "    }\n",
       "\n",
       "    .dataframe thead th {\n",
       "        text-align: right;\n",
       "    }\n",
       "</style>\n",
       "<table border=\"1\" class=\"dataframe\">\n",
       "  <thead>\n",
       "    <tr style=\"text-align: right;\">\n",
       "      <th></th>\n",
       "      <th>Age</th>\n",
       "    </tr>\n",
       "  </thead>\n",
       "  <tbody>\n",
       "    <tr>\n",
       "      <th>9</th>\n",
       "      <td>24.0</td>\n",
       "    </tr>\n",
       "    <tr>\n",
       "      <th>8</th>\n",
       "      <td>19.0</td>\n",
       "    </tr>\n",
       "    <tr>\n",
       "      <th>7</th>\n",
       "      <td>28.0</td>\n",
       "    </tr>\n",
       "    <tr>\n",
       "      <th>6</th>\n",
       "      <td>23.0</td>\n",
       "    </tr>\n",
       "    <tr>\n",
       "      <th>5</th>\n",
       "      <td>22.0</td>\n",
       "    </tr>\n",
       "    <tr>\n",
       "      <th>4</th>\n",
       "      <td>26.0</td>\n",
       "    </tr>\n",
       "    <tr>\n",
       "      <th>3</th>\n",
       "      <td>28.0</td>\n",
       "    </tr>\n",
       "    <tr>\n",
       "      <th>2</th>\n",
       "      <td>20.0</td>\n",
       "    </tr>\n",
       "    <tr>\n",
       "      <th>1</th>\n",
       "      <td>19.0</td>\n",
       "    </tr>\n",
       "    <tr>\n",
       "      <th>0</th>\n",
       "      <td>24.0</td>\n",
       "    </tr>\n",
       "  </tbody>\n",
       "</table>\n",
       "</div>"
      ],
      "text/plain": [
       "    Age\n",
       "9  24.0\n",
       "8  19.0\n",
       "7  28.0\n",
       "6  23.0\n",
       "5  22.0\n",
       "4  26.0\n",
       "3  28.0\n",
       "2  20.0\n",
       "1  19.0\n",
       "0  24.0"
      ]
     },
     "execution_count": 50,
     "metadata": {},
     "output_type": "execute_result"
    }
   ],
   "source": [
    "df2.loc[:,['Age']]"
   ]
  },
  {
   "cell_type": "code",
   "execution_count": 53,
   "id": "307d2e57",
   "metadata": {},
   "outputs": [
    {
     "data": {
      "text/html": [
       "<div>\n",
       "<style scoped>\n",
       "    .dataframe tbody tr th:only-of-type {\n",
       "        vertical-align: middle;\n",
       "    }\n",
       "\n",
       "    .dataframe tbody tr th {\n",
       "        vertical-align: top;\n",
       "    }\n",
       "\n",
       "    .dataframe thead th {\n",
       "        text-align: right;\n",
       "    }\n",
       "</style>\n",
       "<table border=\"1\" class=\"dataframe\">\n",
       "  <thead>\n",
       "    <tr style=\"text-align: right;\">\n",
       "      <th></th>\n",
       "      <th>Name</th>\n",
       "      <th>Group</th>\n",
       "    </tr>\n",
       "  </thead>\n",
       "  <tbody>\n",
       "    <tr>\n",
       "      <th>9</th>\n",
       "      <td>다영</td>\n",
       "      <td>우주소녀</td>\n",
       "    </tr>\n",
       "    <tr>\n",
       "      <th>8</th>\n",
       "      <td>윤</td>\n",
       "      <td>스테이씨</td>\n",
       "    </tr>\n",
       "    <tr>\n",
       "      <th>7</th>\n",
       "      <td>지수</td>\n",
       "      <td>블랙핑크</td>\n",
       "    </tr>\n",
       "    <tr>\n",
       "      <th>6</th>\n",
       "      <td>카리나</td>\n",
       "      <td>에스파</td>\n",
       "    </tr>\n",
       "    <tr>\n",
       "      <th>5</th>\n",
       "      <td>채령</td>\n",
       "      <td>있지</td>\n",
       "    </tr>\n",
       "    <tr>\n",
       "      <th>4</th>\n",
       "      <td>모모</td>\n",
       "      <td>트와이스</td>\n",
       "    </tr>\n",
       "    <tr>\n",
       "      <th>3</th>\n",
       "      <td>나연</td>\n",
       "      <td>트와이스</td>\n",
       "    </tr>\n",
       "    <tr>\n",
       "      <th>2</th>\n",
       "      <td>안유진</td>\n",
       "      <td>아이브</td>\n",
       "    </tr>\n",
       "    <tr>\n",
       "      <th>1</th>\n",
       "      <td>장원영</td>\n",
       "      <td>아이브</td>\n",
       "    </tr>\n",
       "    <tr>\n",
       "      <th>0</th>\n",
       "      <td>예리</td>\n",
       "      <td>레드벨벳</td>\n",
       "    </tr>\n",
       "  </tbody>\n",
       "</table>\n",
       "</div>"
      ],
      "text/plain": [
       "  Name Group\n",
       "9   다영  우주소녀\n",
       "8    윤  스테이씨\n",
       "7   지수  블랙핑크\n",
       "6  카리나   에스파\n",
       "5   채령    있지\n",
       "4   모모  트와이스\n",
       "3   나연  트와이스\n",
       "2  안유진   아이브\n",
       "1  장원영   아이브\n",
       "0   예리  레드벨벳"
      ]
     },
     "execution_count": 53,
     "metadata": {},
     "output_type": "execute_result"
    }
   ],
   "source": [
    "df2.iloc[:,:2]"
   ]
  },
  {
   "cell_type": "code",
   "execution_count": 54,
   "id": "8a3a7861",
   "metadata": {},
   "outputs": [
    {
     "data": {
      "text/html": [
       "<div>\n",
       "<style scoped>\n",
       "    .dataframe tbody tr th:only-of-type {\n",
       "        vertical-align: middle;\n",
       "    }\n",
       "\n",
       "    .dataframe tbody tr th {\n",
       "        vertical-align: top;\n",
       "    }\n",
       "\n",
       "    .dataframe thead th {\n",
       "        text-align: right;\n",
       "    }\n",
       "</style>\n",
       "<table border=\"1\" class=\"dataframe\">\n",
       "  <thead>\n",
       "    <tr style=\"text-align: right;\">\n",
       "      <th></th>\n",
       "      <th>Name</th>\n",
       "      <th>Group</th>\n",
       "    </tr>\n",
       "  </thead>\n",
       "  <tbody>\n",
       "    <tr>\n",
       "      <th>9</th>\n",
       "      <td>다영</td>\n",
       "      <td>우주소녀</td>\n",
       "    </tr>\n",
       "    <tr>\n",
       "      <th>8</th>\n",
       "      <td>윤</td>\n",
       "      <td>스테이씨</td>\n",
       "    </tr>\n",
       "    <tr>\n",
       "      <th>7</th>\n",
       "      <td>지수</td>\n",
       "      <td>블랙핑크</td>\n",
       "    </tr>\n",
       "    <tr>\n",
       "      <th>6</th>\n",
       "      <td>카리나</td>\n",
       "      <td>에스파</td>\n",
       "    </tr>\n",
       "    <tr>\n",
       "      <th>5</th>\n",
       "      <td>채령</td>\n",
       "      <td>있지</td>\n",
       "    </tr>\n",
       "    <tr>\n",
       "      <th>4</th>\n",
       "      <td>모모</td>\n",
       "      <td>트와이스</td>\n",
       "    </tr>\n",
       "    <tr>\n",
       "      <th>3</th>\n",
       "      <td>나연</td>\n",
       "      <td>트와이스</td>\n",
       "    </tr>\n",
       "    <tr>\n",
       "      <th>2</th>\n",
       "      <td>안유진</td>\n",
       "      <td>아이브</td>\n",
       "    </tr>\n",
       "    <tr>\n",
       "      <th>1</th>\n",
       "      <td>장원영</td>\n",
       "      <td>아이브</td>\n",
       "    </tr>\n",
       "    <tr>\n",
       "      <th>0</th>\n",
       "      <td>예리</td>\n",
       "      <td>레드벨벳</td>\n",
       "    </tr>\n",
       "  </tbody>\n",
       "</table>\n",
       "</div>"
      ],
      "text/plain": [
       "  Name Group\n",
       "9   다영  우주소녀\n",
       "8    윤  스테이씨\n",
       "7   지수  블랙핑크\n",
       "6  카리나   에스파\n",
       "5   채령    있지\n",
       "4   모모  트와이스\n",
       "3   나연  트와이스\n",
       "2  안유진   아이브\n",
       "1  장원영   아이브\n",
       "0   예리  레드벨벳"
      ]
     },
     "execution_count": 54,
     "metadata": {},
     "output_type": "execute_result"
    }
   ],
   "source": [
    "df2.loc[:,['Name','Group']]"
   ]
  },
  {
   "cell_type": "markdown",
   "id": "65407e92",
   "metadata": {},
   "source": [
    "## CSV 파일에서 읽어오기"
   ]
  },
  {
   "cell_type": "markdown",
   "id": "900a81ac",
   "metadata": {},
   "source": [
    "CSV 파일은 데이터 분석에서 가장 많이 사용하는 데이터 파일 포맷으로, pandas에서 쉽게 읽어들일 수 있다.\n",
    "\n",
    "**pd.read_csv()** 를 이용하여 읽어들이면 **dataframe** 변수 형태로 반환한다.  "
   ]
  },
  {
   "cell_type": "markdown",
   "id": "d03b5e64",
   "metadata": {},
   "source": [
    "**Example CSV file** : Company Funding Records\n",
    "The TechCrunch Continental USA file is a listing of 1,460 company funding records reported by TechCrunch. As part of the import process, geocode these records using the city and state information in the file.  Try adding another map layer with the Dataset Configuration Panel so you can visualize both a heatmap and graduated circles with the same dataset.\n",
    "\n",
    "출처 : https://support.spatialkey.com/spatialkey-sample-csv-data/"
   ]
  },
  {
   "cell_type": "code",
   "execution_count": 55,
   "id": "b8956461",
   "metadata": {},
   "outputs": [],
   "source": [
    "df = pd.read_csv('TechCrunchcontinentalUSA.csv')"
   ]
  },
  {
   "cell_type": "markdown",
   "id": "d5e91abc",
   "metadata": {},
   "source": [
    "## 데이터 프레임 함수들"
   ]
  },
  {
   "cell_type": "markdown",
   "id": "2e1cd449",
   "metadata": {},
   "source": [
    "위 예에서 `df`는 데이터프레임을 가리키는 변수다. 데이터프레임은 많은 수의 행을 가지므로, 간단히 첫 몇줄만 보고 싶다면 `head()` 함수를 쓰고, 마지막 몇 줄을 보고 싶다면 `tail()` 함수를 사용한다."
   ]
  },
  {
   "cell_type": "code",
   "execution_count": 56,
   "id": "330d0307",
   "metadata": {
    "scrolled": true
   },
   "outputs": [
    {
     "data": {
      "text/html": [
       "<div>\n",
       "<style scoped>\n",
       "    .dataframe tbody tr th:only-of-type {\n",
       "        vertical-align: middle;\n",
       "    }\n",
       "\n",
       "    .dataframe tbody tr th {\n",
       "        vertical-align: top;\n",
       "    }\n",
       "\n",
       "    .dataframe thead th {\n",
       "        text-align: right;\n",
       "    }\n",
       "</style>\n",
       "<table border=\"1\" class=\"dataframe\">\n",
       "  <thead>\n",
       "    <tr style=\"text-align: right;\">\n",
       "      <th></th>\n",
       "      <th>permalink</th>\n",
       "      <th>company</th>\n",
       "      <th>numEmps</th>\n",
       "      <th>category</th>\n",
       "      <th>city</th>\n",
       "      <th>state</th>\n",
       "      <th>fundedDate</th>\n",
       "      <th>raisedAmt</th>\n",
       "      <th>raisedCurrency</th>\n",
       "      <th>round</th>\n",
       "    </tr>\n",
       "  </thead>\n",
       "  <tbody>\n",
       "    <tr>\n",
       "      <th>0</th>\n",
       "      <td>lifelock</td>\n",
       "      <td>LifeLock</td>\n",
       "      <td>NaN</td>\n",
       "      <td>web</td>\n",
       "      <td>Tempe</td>\n",
       "      <td>AZ</td>\n",
       "      <td>1-May-07</td>\n",
       "      <td>6850000</td>\n",
       "      <td>USD</td>\n",
       "      <td>b</td>\n",
       "    </tr>\n",
       "    <tr>\n",
       "      <th>1</th>\n",
       "      <td>lifelock</td>\n",
       "      <td>LifeLock</td>\n",
       "      <td>NaN</td>\n",
       "      <td>web</td>\n",
       "      <td>Tempe</td>\n",
       "      <td>AZ</td>\n",
       "      <td>1-Oct-06</td>\n",
       "      <td>6000000</td>\n",
       "      <td>USD</td>\n",
       "      <td>a</td>\n",
       "    </tr>\n",
       "    <tr>\n",
       "      <th>2</th>\n",
       "      <td>lifelock</td>\n",
       "      <td>LifeLock</td>\n",
       "      <td>NaN</td>\n",
       "      <td>web</td>\n",
       "      <td>Tempe</td>\n",
       "      <td>AZ</td>\n",
       "      <td>1-Jan-08</td>\n",
       "      <td>25000000</td>\n",
       "      <td>USD</td>\n",
       "      <td>c</td>\n",
       "    </tr>\n",
       "    <tr>\n",
       "      <th>3</th>\n",
       "      <td>mycityfaces</td>\n",
       "      <td>MyCityFaces</td>\n",
       "      <td>7.0</td>\n",
       "      <td>web</td>\n",
       "      <td>Scottsdale</td>\n",
       "      <td>AZ</td>\n",
       "      <td>1-Jan-08</td>\n",
       "      <td>50000</td>\n",
       "      <td>USD</td>\n",
       "      <td>seed</td>\n",
       "    </tr>\n",
       "    <tr>\n",
       "      <th>4</th>\n",
       "      <td>flypaper</td>\n",
       "      <td>Flypaper</td>\n",
       "      <td>NaN</td>\n",
       "      <td>web</td>\n",
       "      <td>Phoenix</td>\n",
       "      <td>AZ</td>\n",
       "      <td>1-Feb-08</td>\n",
       "      <td>3000000</td>\n",
       "      <td>USD</td>\n",
       "      <td>a</td>\n",
       "    </tr>\n",
       "  </tbody>\n",
       "</table>\n",
       "</div>"
      ],
      "text/plain": [
       "     permalink      company  numEmps category        city state fundedDate  \\\n",
       "0     lifelock     LifeLock      NaN      web       Tempe    AZ   1-May-07   \n",
       "1     lifelock     LifeLock      NaN      web       Tempe    AZ   1-Oct-06   \n",
       "2     lifelock     LifeLock      NaN      web       Tempe    AZ   1-Jan-08   \n",
       "3  mycityfaces  MyCityFaces      7.0      web  Scottsdale    AZ   1-Jan-08   \n",
       "4     flypaper     Flypaper      NaN      web     Phoenix    AZ   1-Feb-08   \n",
       "\n",
       "   raisedAmt raisedCurrency round  \n",
       "0    6850000            USD     b  \n",
       "1    6000000            USD     a  \n",
       "2   25000000            USD     c  \n",
       "3      50000            USD  seed  \n",
       "4    3000000            USD     a  "
      ]
     },
     "execution_count": 56,
     "metadata": {},
     "output_type": "execute_result"
    }
   ],
   "source": [
    "df.head()"
   ]
  },
  {
   "cell_type": "code",
   "execution_count": 58,
   "id": "27b54072",
   "metadata": {},
   "outputs": [
    {
     "data": {
      "text/html": [
       "<div>\n",
       "<style scoped>\n",
       "    .dataframe tbody tr th:only-of-type {\n",
       "        vertical-align: middle;\n",
       "    }\n",
       "\n",
       "    .dataframe tbody tr th {\n",
       "        vertical-align: top;\n",
       "    }\n",
       "\n",
       "    .dataframe thead th {\n",
       "        text-align: right;\n",
       "    }\n",
       "</style>\n",
       "<table border=\"1\" class=\"dataframe\">\n",
       "  <thead>\n",
       "    <tr style=\"text-align: right;\">\n",
       "      <th></th>\n",
       "      <th>permalink</th>\n",
       "      <th>company</th>\n",
       "      <th>numEmps</th>\n",
       "      <th>category</th>\n",
       "      <th>city</th>\n",
       "      <th>state</th>\n",
       "      <th>fundedDate</th>\n",
       "      <th>raisedAmt</th>\n",
       "      <th>raisedCurrency</th>\n",
       "      <th>round</th>\n",
       "    </tr>\n",
       "  </thead>\n",
       "  <tbody>\n",
       "    <tr>\n",
       "      <th>1455</th>\n",
       "      <td>trusera</td>\n",
       "      <td>Trusera</td>\n",
       "      <td>15.0</td>\n",
       "      <td>web</td>\n",
       "      <td>Seattle</td>\n",
       "      <td>WA</td>\n",
       "      <td>1-Jun-07</td>\n",
       "      <td>2000000</td>\n",
       "      <td>USD</td>\n",
       "      <td>angel</td>\n",
       "    </tr>\n",
       "    <tr>\n",
       "      <th>1456</th>\n",
       "      <td>alerts-com</td>\n",
       "      <td>Alerts.com</td>\n",
       "      <td>NaN</td>\n",
       "      <td>web</td>\n",
       "      <td>Bellevue</td>\n",
       "      <td>WA</td>\n",
       "      <td>8-Jul-08</td>\n",
       "      <td>1200000</td>\n",
       "      <td>USD</td>\n",
       "      <td>a</td>\n",
       "    </tr>\n",
       "    <tr>\n",
       "      <th>1457</th>\n",
       "      <td>myrio</td>\n",
       "      <td>Myrio</td>\n",
       "      <td>75.0</td>\n",
       "      <td>software</td>\n",
       "      <td>Bothell</td>\n",
       "      <td>WA</td>\n",
       "      <td>1-Jan-01</td>\n",
       "      <td>20500000</td>\n",
       "      <td>USD</td>\n",
       "      <td>unattributed</td>\n",
       "    </tr>\n",
       "    <tr>\n",
       "      <th>1458</th>\n",
       "      <td>grid-networks</td>\n",
       "      <td>Grid Networks</td>\n",
       "      <td>NaN</td>\n",
       "      <td>web</td>\n",
       "      <td>Seattle</td>\n",
       "      <td>WA</td>\n",
       "      <td>30-Oct-07</td>\n",
       "      <td>9500000</td>\n",
       "      <td>USD</td>\n",
       "      <td>a</td>\n",
       "    </tr>\n",
       "    <tr>\n",
       "      <th>1459</th>\n",
       "      <td>grid-networks</td>\n",
       "      <td>Grid Networks</td>\n",
       "      <td>NaN</td>\n",
       "      <td>web</td>\n",
       "      <td>Seattle</td>\n",
       "      <td>WA</td>\n",
       "      <td>20-May-08</td>\n",
       "      <td>10500000</td>\n",
       "      <td>USD</td>\n",
       "      <td>b</td>\n",
       "    </tr>\n",
       "  </tbody>\n",
       "</table>\n",
       "</div>"
      ],
      "text/plain": [
       "          permalink        company  numEmps  category      city state  \\\n",
       "1455        trusera        Trusera     15.0       web   Seattle    WA   \n",
       "1456     alerts-com     Alerts.com      NaN       web  Bellevue    WA   \n",
       "1457          myrio          Myrio     75.0  software   Bothell    WA   \n",
       "1458  grid-networks  Grid Networks      NaN       web   Seattle    WA   \n",
       "1459  grid-networks  Grid Networks      NaN       web   Seattle    WA   \n",
       "\n",
       "     fundedDate  raisedAmt raisedCurrency         round  \n",
       "1455   1-Jun-07    2000000            USD         angel  \n",
       "1456   8-Jul-08    1200000            USD             a  \n",
       "1457   1-Jan-01   20500000            USD  unattributed  \n",
       "1458  30-Oct-07    9500000            USD             a  \n",
       "1459  20-May-08   10500000            USD             b  "
      ]
     },
     "execution_count": 58,
     "metadata": {},
     "output_type": "execute_result"
    }
   ],
   "source": [
    "df.tail()"
   ]
  },
  {
   "cell_type": "markdown",
   "id": "7e2e23f9",
   "metadata": {},
   "source": [
    "데이터 프레임의 `shape` 속성은 행과 열의 수를 나타낸다."
   ]
  },
  {
   "cell_type": "code",
   "execution_count": 60,
   "id": "65a516b8",
   "metadata": {},
   "outputs": [
    {
     "data": {
      "text/plain": [
       "(1460, 10)"
      ]
     },
     "execution_count": 60,
     "metadata": {},
     "output_type": "execute_result"
    }
   ],
   "source": [
    "df.shape"
   ]
  },
  {
   "cell_type": "markdown",
   "id": "6a9a02c7",
   "metadata": {},
   "source": [
    "`columns` 속성과 `tolist()` 함수를 이용하면 열 이름들을 리스트로 반환 할 수 있다."
   ]
  },
  {
   "cell_type": "code",
   "execution_count": 61,
   "id": "bd2a1375",
   "metadata": {},
   "outputs": [
    {
     "data": {
      "text/plain": [
       "['permalink',\n",
       " 'company',\n",
       " 'numEmps',\n",
       " 'category',\n",
       " 'city',\n",
       " 'state',\n",
       " 'fundedDate',\n",
       " 'raisedAmt',\n",
       " 'raisedCurrency',\n",
       " 'round']"
      ]
     },
     "execution_count": 61,
     "metadata": {},
     "output_type": "execute_result"
    }
   ],
   "source": [
    "df.columns.tolist()"
   ]
  },
  {
   "cell_type": "markdown",
   "id": "2d2b072a",
   "metadata": {},
   "source": [
    "각 열에 대해 평균, 최소값 등 다양한 통계량을 보고싶다면 `describe()` 함수를 사용한다."
   ]
  },
  {
   "cell_type": "code",
   "execution_count": 62,
   "id": "315f8852",
   "metadata": {},
   "outputs": [
    {
     "data": {
      "text/html": [
       "<div>\n",
       "<style scoped>\n",
       "    .dataframe tbody tr th:only-of-type {\n",
       "        vertical-align: middle;\n",
       "    }\n",
       "\n",
       "    .dataframe tbody tr th {\n",
       "        vertical-align: top;\n",
       "    }\n",
       "\n",
       "    .dataframe thead th {\n",
       "        text-align: right;\n",
       "    }\n",
       "</style>\n",
       "<table border=\"1\" class=\"dataframe\">\n",
       "  <thead>\n",
       "    <tr style=\"text-align: right;\">\n",
       "      <th></th>\n",
       "      <th>numEmps</th>\n",
       "      <th>raisedAmt</th>\n",
       "    </tr>\n",
       "  </thead>\n",
       "  <tbody>\n",
       "    <tr>\n",
       "      <th>count</th>\n",
       "      <td>567.000000</td>\n",
       "      <td>1.460000e+03</td>\n",
       "    </tr>\n",
       "    <tr>\n",
       "      <th>mean</th>\n",
       "      <td>95.721340</td>\n",
       "      <td>1.013149e+07</td>\n",
       "    </tr>\n",
       "    <tr>\n",
       "      <th>std</th>\n",
       "      <td>867.524287</td>\n",
       "      <td>1.866146e+07</td>\n",
       "    </tr>\n",
       "    <tr>\n",
       "      <th>min</th>\n",
       "      <td>0.000000</td>\n",
       "      <td>6.000000e+03</td>\n",
       "    </tr>\n",
       "    <tr>\n",
       "      <th>25%</th>\n",
       "      <td>8.000000</td>\n",
       "      <td>2.000000e+06</td>\n",
       "    </tr>\n",
       "    <tr>\n",
       "      <th>50%</th>\n",
       "      <td>20.000000</td>\n",
       "      <td>5.500000e+06</td>\n",
       "    </tr>\n",
       "    <tr>\n",
       "      <th>75%</th>\n",
       "      <td>50.000000</td>\n",
       "      <td>1.102500e+07</td>\n",
       "    </tr>\n",
       "    <tr>\n",
       "      <th>max</th>\n",
       "      <td>20000.000000</td>\n",
       "      <td>3.000000e+08</td>\n",
       "    </tr>\n",
       "  </tbody>\n",
       "</table>\n",
       "</div>"
      ],
      "text/plain": [
       "            numEmps     raisedAmt\n",
       "count    567.000000  1.460000e+03\n",
       "mean      95.721340  1.013149e+07\n",
       "std      867.524287  1.866146e+07\n",
       "min        0.000000  6.000000e+03\n",
       "25%        8.000000  2.000000e+06\n",
       "50%       20.000000  5.500000e+06\n",
       "75%       50.000000  1.102500e+07\n",
       "max    20000.000000  3.000000e+08"
      ]
     },
     "execution_count": 62,
     "metadata": {},
     "output_type": "execute_result"
    }
   ],
   "source": [
    "df.describe()"
   ]
  },
  {
   "cell_type": "markdown",
   "id": "5f46f30a",
   "metadata": {},
   "source": [
    "`max()` 함수를 이용하면 원하는 열이나 전체 열의 최대값을 구할 수 있다."
   ]
  },
  {
   "cell_type": "code",
   "execution_count": 63,
   "id": "3f2256e9",
   "metadata": {},
   "outputs": [
    {
     "data": {
      "text/plain": [
       "permalink                zynga\n",
       "company                  xkoto\n",
       "numEmps                20000.0\n",
       "state                       WA\n",
       "fundedDate            9-Nov-07\n",
       "raisedAmt            300000000\n",
       "raisedCurrency             USD\n",
       "round             unattributed\n",
       "dtype: object"
      ]
     },
     "execution_count": 63,
     "metadata": {},
     "output_type": "execute_result"
    }
   ],
   "source": [
    "df.max()"
   ]
  },
  {
   "cell_type": "markdown",
   "id": "c6ecba4f",
   "metadata": {},
   "source": [
    "특정 열의 최대 값을 구하고 싶으면 아래와 같이 쓴다. "
   ]
  },
  {
   "cell_type": "code",
   "execution_count": 64,
   "id": "95d86f28",
   "metadata": {},
   "outputs": [
    {
     "data": {
      "text/plain": [
       "300000000"
      ]
     },
     "execution_count": 64,
     "metadata": {},
     "output_type": "execute_result"
    }
   ],
   "source": [
    "df['raisedAmt'].max() #raisedAmt 최대값"
   ]
  },
  {
   "cell_type": "markdown",
   "id": "5ddcf865",
   "metadata": {},
   "source": [
    "평균을 구하고 싶다면 아래와 같이 쓴다."
   ]
  },
  {
   "cell_type": "code",
   "execution_count": 65,
   "id": "c6ed9698",
   "metadata": {},
   "outputs": [
    {
     "data": {
      "text/plain": [
       "95.72134038800705"
      ]
     },
     "execution_count": 65,
     "metadata": {},
     "output_type": "execute_result"
    }
   ],
   "source": [
    "df['numEmps'].mean() #numEmps 평균값"
   ]
  },
  {
   "cell_type": "markdown",
   "id": "e100e918",
   "metadata": {},
   "source": [
    "raisedAmt 수치가 최대인 행 위치(index)를 알고 싶다면, `argmax()` 함수를 사용한다."
   ]
  },
  {
   "cell_type": "code",
   "execution_count": 66,
   "id": "31cb6f56",
   "metadata": {},
   "outputs": [
    {
     "data": {
      "text/plain": [
       "14"
      ]
     },
     "execution_count": 66,
     "metadata": {},
     "output_type": "execute_result"
    }
   ],
   "source": [
    "df['raisedAmt'].argmax()"
   ]
  },
  {
   "cell_type": "markdown",
   "id": "8984c243",
   "metadata": {},
   "source": [
    "향후 `argmax` 대신 `idxmax` 를 쓰도록 권장하므로, `idmax`로 고쳐서 쓴다."
   ]
  },
  {
   "cell_type": "code",
   "execution_count": 67,
   "id": "30a9d249",
   "metadata": {},
   "outputs": [
    {
     "data": {
      "text/plain": [
       "permalink          facebook\n",
       "company            Facebook\n",
       "numEmps               450.0\n",
       "category                web\n",
       "city              Palo Alto\n",
       "state                    CA\n",
       "fundedDate         1-Oct-07\n",
       "raisedAmt         300000000\n",
       "raisedCurrency          USD\n",
       "round                     c\n",
       "Name: 14, dtype: object"
      ]
     },
     "execution_count": 67,
     "metadata": {},
     "output_type": "execute_result"
    }
   ],
   "source": [
    "df.loc[14] #반환된 index 값을 이용해 값을 출력"
   ]
  },
  {
   "cell_type": "code",
   "execution_count": 69,
   "id": "539b29f6",
   "metadata": {},
   "outputs": [
    {
     "data": {
      "text/plain": [
       "permalink          facebook\n",
       "company            Facebook\n",
       "numEmps               450.0\n",
       "category                web\n",
       "city              Palo Alto\n",
       "state                    CA\n",
       "fundedDate         1-Oct-07\n",
       "raisedAmt         300000000\n",
       "raisedCurrency          USD\n",
       "round                     c\n",
       "Name: 14, dtype: object"
      ]
     },
     "execution_count": 69,
     "metadata": {},
     "output_type": "execute_result"
    }
   ],
   "source": [
    "df.loc[df['raisedAmt'].idxmax()] #위 과정을 하나로 합침"
   ]
  },
  {
   "cell_type": "markdown",
   "id": "b6c87533",
   "metadata": {},
   "source": [
    "유용하게 쓰이는 함수 중 하나는 `value_counts()` 함수로, 특정 열에 사용된 값들에 대해 횟수를 계산하여 보여준다."
   ]
  },
  {
   "cell_type": "code",
   "execution_count": 70,
   "id": "96d8a729",
   "metadata": {},
   "outputs": [
    {
     "data": {
      "text/plain": [
       "San Francisco     228\n",
       "New York           93\n",
       "Mountain View      89\n",
       "Palo Alto          78\n",
       "Seattle            75\n",
       "                 ... \n",
       "North Andover       1\n",
       "Ann Arbor           1\n",
       "Marina Del Rey      1\n",
       "Wayne               1\n",
       "Kennebunk           1\n",
       "Name: city, Length: 193, dtype: int64"
      ]
     },
     "execution_count": 70,
     "metadata": {},
     "output_type": "execute_result"
    }
   ],
   "source": [
    "df['city'].value_counts()"
   ]
  },
  {
   "cell_type": "markdown",
   "id": "f0a9b23b",
   "metadata": {},
   "source": [
    "## 데이터 프레임 값 추출 "
   ]
  },
  {
   "cell_type": "markdown",
   "id": "78ff99ce",
   "metadata": {},
   "source": [
    "데이터프레임 변수에 열의 이름을 사용하여 인덱싱하면, 특정 열의 값만을 추출할 수 있다. raisedAmt 값만 추출하고 싶다면 아래와 같이 인덱싱 한다."
   ]
  },
  {
   "cell_type": "code",
   "execution_count": 75,
   "id": "1693a825",
   "metadata": {},
   "outputs": [
    {
     "data": {
      "text/plain": [
       "0     6850000\n",
       "1     6000000\n",
       "2    25000000\n",
       "3       50000\n",
       "4     3000000\n",
       "Name: raisedAmt, dtype: int64"
      ]
     },
     "execution_count": 75,
     "metadata": {},
     "output_type": "execute_result"
    }
   ],
   "source": [
    "city = df['raisedAmt']\n",
    "city.head() #갯수가 너무 많으므로 뒤에 head() 함수를 써서 앞 부분만 추출 "
   ]
  },
  {
   "cell_type": "code",
   "execution_count": 76,
   "id": "68bdb0a6",
   "metadata": {},
   "outputs": [
    {
     "data": {
      "text/html": [
       "<div>\n",
       "<style scoped>\n",
       "    .dataframe tbody tr th:only-of-type {\n",
       "        vertical-align: middle;\n",
       "    }\n",
       "\n",
       "    .dataframe tbody tr th {\n",
       "        vertical-align: top;\n",
       "    }\n",
       "\n",
       "    .dataframe thead th {\n",
       "        text-align: right;\n",
       "    }\n",
       "</style>\n",
       "<table border=\"1\" class=\"dataframe\">\n",
       "  <thead>\n",
       "    <tr style=\"text-align: right;\">\n",
       "      <th></th>\n",
       "      <th>permalink</th>\n",
       "      <th>company</th>\n",
       "      <th>numEmps</th>\n",
       "      <th>category</th>\n",
       "      <th>city</th>\n",
       "      <th>state</th>\n",
       "      <th>fundedDate</th>\n",
       "      <th>raisedAmt</th>\n",
       "      <th>raisedCurrency</th>\n",
       "      <th>round</th>\n",
       "    </tr>\n",
       "  </thead>\n",
       "  <tbody>\n",
       "    <tr>\n",
       "      <th>14</th>\n",
       "      <td>facebook</td>\n",
       "      <td>Facebook</td>\n",
       "      <td>450.0</td>\n",
       "      <td>web</td>\n",
       "      <td>Palo Alto</td>\n",
       "      <td>CA</td>\n",
       "      <td>1-Oct-07</td>\n",
       "      <td>300000000</td>\n",
       "      <td>USD</td>\n",
       "      <td>c</td>\n",
       "    </tr>\n",
       "  </tbody>\n",
       "</table>\n",
       "</div>"
      ],
      "text/plain": [
       "   permalink   company  numEmps category       city state fundedDate  \\\n",
       "14  facebook  Facebook    450.0      web  Palo Alto    CA   1-Oct-07   \n",
       "\n",
       "    raisedAmt raisedCurrency round  \n",
       "14  300000000            USD     c  "
      ]
     },
     "execution_count": 76,
     "metadata": {},
     "output_type": "execute_result"
    }
   ],
   "source": [
    "df.loc[[df['raisedAmt'].idxmax()]]"
   ]
  },
  {
   "cell_type": "markdown",
   "id": "973e7a62",
   "metadata": {},
   "source": [
    "위 결과와 아래 결과 차이를 비교."
   ]
  },
  {
   "cell_type": "code",
   "execution_count": 78,
   "id": "89c1118c",
   "metadata": {},
   "outputs": [
    {
     "data": {
      "text/plain": [
       "permalink          facebook\n",
       "company            Facebook\n",
       "numEmps               450.0\n",
       "category                web\n",
       "city              Palo Alto\n",
       "state                    CA\n",
       "fundedDate         1-Oct-07\n",
       "raisedAmt         300000000\n",
       "raisedCurrency          USD\n",
       "round                     c\n",
       "Name: 14, dtype: object"
      ]
     },
     "execution_count": 78,
     "metadata": {},
     "output_type": "execute_result"
    }
   ],
   "source": [
    "df.loc[df['raisedAmt'].idxmax()]"
   ]
  },
  {
   "cell_type": "markdown",
   "id": "538bc711",
   "metadata": {},
   "source": [
    "위의 예에서 좀더 나아가, raisedAmt 수치가 높은 값에서 numEmps 가 낮은 점수만 가져오고 싶다면?"
   ]
  },
  {
   "cell_type": "code",
   "execution_count": 81,
   "id": "8dd4977e",
   "metadata": {},
   "outputs": [
    {
     "data": {
      "text/plain": [
       "14    450.0\n",
       "Name: numEmps, dtype: float64"
      ]
     },
     "execution_count": 81,
     "metadata": {},
     "output_type": "execute_result"
    }
   ],
   "source": [
    "df.loc[[df['raisedAmt'].idxmax()]]['numEmps']"
   ]
  },
  {
   "cell_type": "code",
   "execution_count": 82,
   "id": "0a7112c1",
   "metadata": {},
   "outputs": [
    {
     "data": {
      "text/plain": [
       "450.0"
      ]
     },
     "execution_count": 82,
     "metadata": {},
     "output_type": "execute_result"
    }
   ],
   "source": [
    "df.loc[df['raisedAmt'].idxmax()]['numEmps']"
   ]
  },
  {
   "cell_type": "markdown",
   "id": "e1bdb6db",
   "metadata": {},
   "source": [
    "아래와 같이 loc에 행과 열을 동시에 인덱싱 하는 것도 가능하다."
   ]
  },
  {
   "cell_type": "code",
   "execution_count": 83,
   "id": "70623c9f",
   "metadata": {},
   "outputs": [
    {
     "data": {
      "text/plain": [
       "450.0"
      ]
     },
     "execution_count": 83,
     "metadata": {},
     "output_type": "execute_result"
    }
   ],
   "source": [
    "df.loc[df['raisedAmt'].idxmax(),'numEmps']"
   ]
  },
  {
   "cell_type": "markdown",
   "id": "08dae2b4",
   "metadata": {},
   "source": [
    "출력되는 모양을 보면 데이터프레임인지 아니면 시리즈인지 알 수 있다. 위의 예는 Series 임을 알 수 있다. 보다 명확하게 데이터형을 알고 싶다면 아래와 같이 `type()` 함수를 써서 확인한다."
   ]
  },
  {
   "cell_type": "code",
   "execution_count": 86,
   "id": "2bd33615",
   "metadata": {},
   "outputs": [
    {
     "data": {
      "text/plain": [
       "pandas.core.series.Series"
      ]
     },
     "execution_count": 86,
     "metadata": {},
     "output_type": "execute_result"
    }
   ],
   "source": [
    "type(df.loc[[df['raisedAmt'].idxmax()]]['numEmps'])"
   ]
  },
  {
   "cell_type": "code",
   "execution_count": 88,
   "id": "591ca213",
   "metadata": {},
   "outputs": [
    {
     "data": {
      "text/plain": [
       "pandas.core.frame.DataFrame"
      ]
     },
     "execution_count": 88,
     "metadata": {},
     "output_type": "execute_result"
    }
   ],
   "source": [
    "type(df.loc[[df['raisedAmt'].idxmax()]])"
   ]
  }
 ],
 "metadata": {
  "kernelspec": {
   "display_name": "Python 3",
   "language": "python",
   "name": "python3"
  },
  "language_info": {
   "codemirror_mode": {
    "name": "ipython",
    "version": 3
   },
   "file_extension": ".py",
   "mimetype": "text/x-python",
   "name": "python",
   "nbconvert_exporter": "python",
   "pygments_lexer": "ipython3",
   "version": "3.8.8"
  }
 },
 "nbformat": 4,
 "nbformat_minor": 5
}
