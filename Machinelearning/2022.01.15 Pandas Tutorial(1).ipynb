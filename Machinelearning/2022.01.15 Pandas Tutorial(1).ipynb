{
 "cells": [
  {
   "cell_type": "markdown",
   "id": "846beb30",
   "metadata": {},
   "source": [
    "# Pandas Tutorial(1)\n",
    "https://github.com/adeshpande3/Pandas-Tutorial/blob/master/Pandas%20Tutorial.ipynb 의 자료를 기반으로 작성함."
   ]
  },
  {
   "cell_type": "markdown",
   "id": "29dbde70",
   "metadata": {},
   "source": [
    "- 관계형 혹은 테이블 형으로 데이터를 만들고 조작하기 위한 파이썬 라이브러리\n",
    "- Numpy 라이브러리 기반으로 구축\n",
    "- 오픈소스(http://pandas.pydata.org)"
   ]
  },
  {
   "cell_type": "markdown",
   "id": "020d54f6",
   "metadata": {},
   "source": [
    "Pandas의 장점 \n",
    "- CSV, 액셀, SQL 등 다양한 소스에서 데이터를 가져오고 해당 형식으로 데이터를 내보낼 수 있는 입출력 기능\n",
    "- 데이터 삽입, 삭제, 병합, 결합, 슬라이싱 등 데이터를 필요한 대로 조작 가능 \n",
    "- 누락 데이터 처리 용이\n",
    "- 통계 분석 및 머신러닝 분석이 가능하도록 연구모델 설정 가능\n",
    "- Scipy 등 다양한 데이터 분석 패키지와 쉽게 연동되어 사용 가능\n",
    "- 빠른 속도로 데이터 처리 가능"
   ]
  },
  {
   "cell_type": "code",
   "execution_count": 2,
   "id": "d41e87ca",
   "metadata": {},
   "outputs": [],
   "source": [
    "import pandas as pd"
   ]
  },
  {
   "cell_type": "markdown",
   "id": "50ca7bd9",
   "metadata": {},
   "source": [
    "## 시리즈(Series)와 데이터프레임(data frame)"
   ]
  },
  {
   "cell_type": "markdown",
   "id": "5269c737",
   "metadata": {},
   "source": [
    "Series: 인덱스가 있는 1차원 배열 "
   ]
  },
  {
   "cell_type": "code",
   "execution_count": 5,
   "id": "b665a7be",
   "metadata": {},
   "outputs": [
    {
     "name": "stdout",
     "output_type": "stream",
     "text": [
      "0     1\n",
      "1    25\n",
      "2    26\n",
      "3    30\n",
      "4    40\n",
      "dtype: int64\n",
      "25\n"
     ]
    }
   ],
   "source": [
    "s = pd.Series([1,25,26,30,40]) #자동 index 부여\n",
    "print(s)\n",
    "print(s[1]) #indexing"
   ]
  },
  {
   "cell_type": "code",
   "execution_count": 7,
   "id": "618c149b",
   "metadata": {},
   "outputs": [
    {
     "name": "stdout",
     "output_type": "stream",
     "text": [
      "sohee      25\n",
      "dream      26\n",
      "foreign    31\n",
      "dtype: int64\n",
      "25\n"
     ]
    }
   ],
   "source": [
    "#dictionary를 이용해 만들기 \n",
    "dic = {'sohee':25, 'dream':26,'foreign':31}\n",
    "s = pd.Series(dic)\n",
    "print(s)\n",
    "print(s[0]) #indexing"
   ]
  },
  {
   "cell_type": "markdown",
   "id": "df8f1745",
   "metadata": {},
   "source": [
    "Series의 두 속성 : index,values"
   ]
  },
  {
   "cell_type": "code",
   "execution_count": 8,
   "id": "f6da1f5b",
   "metadata": {},
   "outputs": [
    {
     "name": "stdout",
     "output_type": "stream",
     "text": [
      "[25 26 31]\n",
      "Index(['sohee', 'dream', 'foreign'], dtype='object')\n"
     ]
    }
   ],
   "source": [
    "print(s.values)\n",
    "print(s.index)"
   ]
  },
  {
   "cell_type": "markdown",
   "id": "bf89f694",
   "metadata": {},
   "source": [
    "index를 부여하는 다른 방법"
   ]
  },
  {
   "cell_type": "code",
   "execution_count": 13,
   "id": "f685cbc8",
   "metadata": {},
   "outputs": [
    {
     "name": "stdout",
     "output_type": "stream",
     "text": [
      "I         1\n",
      "SOHEE    25\n",
      "DREAM    26\n",
      "WISH     30\n",
      "dtype: int64\n",
      "25\n",
      "I         1\n",
      "SOHEE    25\n",
      "DREAM    26\n",
      "dtype: int64\n"
     ]
    }
   ],
   "source": [
    "s = pd.Series([1,25,26,30],index=['I','SOHEE','DREAM','WISH'])\n",
    "print(s)\n",
    "print(s['SOHEE'])\n",
    "print(s[:'DREAM'])"
   ]
  },
  {
   "cell_type": "markdown",
   "id": "0b6496ff",
   "metadata": {},
   "source": [
    "데이터 프레임 만들기 : 2차원 표와 같은 형태, 행(row)과 열(column)로 이루어져 있고, 각 열에는 name이 있고 행에는 index가 있다."
   ]
  },
  {
   "cell_type": "code",
   "execution_count": 15,
   "id": "c23a13e4",
   "metadata": {},
   "outputs": [
    {
     "data": {
      "text/html": [
       "<div>\n",
       "<style scoped>\n",
       "    .dataframe tbody tr th:only-of-type {\n",
       "        vertical-align: middle;\n",
       "    }\n",
       "\n",
       "    .dataframe tbody tr th {\n",
       "        vertical-align: top;\n",
       "    }\n",
       "\n",
       "    .dataframe thead th {\n",
       "        text-align: right;\n",
       "    }\n",
       "</style>\n",
       "<table border=\"1\" class=\"dataframe\">\n",
       "  <thead>\n",
       "    <tr style=\"text-align: right;\">\n",
       "      <th></th>\n",
       "      <th>학번</th>\n",
       "      <th>이름</th>\n",
       "      <th>Quiz</th>\n",
       "      <th>중간고사</th>\n",
       "    </tr>\n",
       "  </thead>\n",
       "  <tbody>\n",
       "    <tr>\n",
       "      <th>0</th>\n",
       "      <td>201810413</td>\n",
       "      <td>김소희</td>\n",
       "      <td>90</td>\n",
       "      <td>80</td>\n",
       "    </tr>\n",
       "    <tr>\n",
       "      <th>1</th>\n",
       "      <td>201810412</td>\n",
       "      <td>한원희</td>\n",
       "      <td>100</td>\n",
       "      <td>90</td>\n",
       "    </tr>\n",
       "    <tr>\n",
       "      <th>2</th>\n",
       "      <td>201810411</td>\n",
       "      <td>오민하</td>\n",
       "      <td>100</td>\n",
       "      <td>100</td>\n",
       "    </tr>\n",
       "  </tbody>\n",
       "</table>\n",
       "</div>"
      ],
      "text/plain": [
       "          학번   이름  Quiz  중간고사\n",
       "0  201810413  김소희    90    80\n",
       "1  201810412  한원희   100    90\n",
       "2  201810411  오민하   100   100"
      ]
     },
     "execution_count": 15,
     "metadata": {},
     "output_type": "execute_result"
    }
   ],
   "source": [
    "score={'학번':[201810413,201810412,201810411],\n",
    "       '이름': ['김소희','한원희','오민하'],\n",
    "        'Quiz':[90,100,100],\n",
    "        '중간고사':[80,90,100]}\n",
    "            \n",
    "score_df=pd.DataFrame(score)\n",
    "score_df"
   ]
  },
  {
   "cell_type": "markdown",
   "id": "f6c62155",
   "metadata": {},
   "source": [
    "하나의 열은 Series이며, 데이터 프레임은 index를 공유하는 열 혹은 Series의 집합(인덱스가 있는 1차원 배열의 집합)으로 생각할 수 있다.\n",
    "\n"
   ]
  },
  {
   "cell_type": "code",
   "execution_count": 16,
   "id": "2e41f1d9",
   "metadata": {
    "scrolled": true
   },
   "outputs": [
    {
     "name": "stdout",
     "output_type": "stream",
     "text": [
      "<class 'pandas.core.series.Series'>\n"
     ]
    },
    {
     "data": {
      "text/plain": [
       "0    201810413\n",
       "1    201810412\n",
       "2    201810411\n",
       "Name: 학번, dtype: int64"
      ]
     },
     "execution_count": 16,
     "metadata": {},
     "output_type": "execute_result"
    }
   ],
   "source": [
    "print(type(score_df['학번']))\n",
    "score_df['학번']"
   ]
  }
 ],
 "metadata": {
  "kernelspec": {
   "display_name": "Python 3",
   "language": "python",
   "name": "python3"
  },
  "language_info": {
   "codemirror_mode": {
    "name": "ipython",
    "version": 3
   },
   "file_extension": ".py",
   "mimetype": "text/x-python",
   "name": "python",
   "nbconvert_exporter": "python",
   "pygments_lexer": "ipython3",
   "version": "3.8.8"
  }
 },
 "nbformat": 4,
 "nbformat_minor": 5
}
