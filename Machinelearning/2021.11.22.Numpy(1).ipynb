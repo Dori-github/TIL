{
 "cells": [
  {
   "cell_type": "markdown",
   "id": "2fe66bfb",
   "metadata": {},
   "source": [
    "# Numpy \n",
    ": 데이터 분석에 필요한 기본 패키지  \n",
    "\n",
    "- ndarray :  빠르고 메모리를 효율적으로 사용하여 벡터 산술 연산과 관련된 브로드캐스팅 기능을 제공하는 다차원 배열 \n",
    "- 반복문 작성할 필요 없이 전체 데이터 배열에 대해 빠른 연산 제공 \n",
    "- 배열 데이터를 디스크에 쓰거나 읽을 수 있는 도구와 메모리에 올려진 파일을 사용하는 도구\n",
    "- 선형 대수, 난수 발생기, 푸리 변환 가능"
   ]
  },
  {
   "cell_type": "code",
   "execution_count": 2,
   "id": "1c7ccdce",
   "metadata": {},
   "outputs": [],
   "source": [
    "import numpy as np #numpy 패키지 import "
   ]
  },
  {
   "cell_type": "markdown",
   "id": "6ed8587a",
   "metadata": {},
   "source": [
    "# 다차원 배열 (Arrays) \n",
    "\n",
    "## ndarray \n",
    ": Numpy에서 제공되는 같은 종류의 데이터를 담을 수 있는 다차원 배열, 모든 원소는 같은 자료형이어야 함.\n",
    ": ndarray의 차원은 rank 라고 부름.\n",
    "\n",
    "모든 배열은 shape 와 type 라는 객체를 가짐. \n",
    "\n",
    "- shape : 각 차원의 크기를 알려줌 \n",
    "- type : 배열에 저장된 자료형을 알려줌 \n"
   ]
  },
  {
   "cell_type": "code",
   "execution_count": 3,
   "id": "32d39400",
   "metadata": {},
   "outputs": [
    {
     "name": "stdout",
     "output_type": "stream",
     "text": [
      "[1, 2, 3, 4, 5, 6]\n",
      "[[1, 2, 3], [4, 5, 6]]\n",
      "[1, 'a', 3.5]\n"
     ]
    }
   ],
   "source": [
    "#ndarray를 사용하기 전 비교를 위해 리스트를 먼저 살펴본다.\n",
    "a = [1,2,3,4,5,6]\n",
    "print(a)\n",
    "b=[[1,2,3],[4,5,6]] #리스트로 2차원 행렬을 표현했을 때 모양 \n",
    "print(b)\n",
    "c=[1,'a',3.5]#리스트는 서로 다른 type 의 데이터 저장 가능 \n",
    "print(c)"
   ]
  },
  {
   "cell_type": "markdown",
   "id": "d1d296a4",
   "metadata": {},
   "source": [
    "ndarray는 array 함수와 중첩된 리스트를 이용하여 생성 가능, [] 를 사용하여 indexing 함"
   ]
  },
  {
   "cell_type": "code",
   "execution_count": 4,
   "id": "3d9185e6",
   "metadata": {},
   "outputs": [
    {
     "name": "stdout",
     "output_type": "stream",
     "text": [
      "<class 'numpy.ndarray'> (3,) 1 2 3\n",
      "[5 2 3]\n"
     ]
    }
   ],
   "source": [
    "a = np.array([1,2,3]) #1차원 배열 생성 \n",
    "print(type(a),a.shape,a[0],a[1],a[2])\n",
    "a[0] = 5 #배열의 한 원소를 변경\n",
    "print(a)"
   ]
  },
  {
   "cell_type": "code",
   "execution_count": 5,
   "id": "2c148020",
   "metadata": {},
   "outputs": [
    {
     "name": "stdout",
     "output_type": "stream",
     "text": [
      "[[1 2 3]\n",
      " [4 5 6]]\n"
     ]
    }
   ],
   "source": [
    "b = np.array([[1,2,3],[4,5,6]]) #2차원 배열 생성 \n",
    "print(b) #2차원 배열 모양 확인 "
   ]
  },
  {
   "cell_type": "code",
   "execution_count": 6,
   "id": "d71d0cd8",
   "metadata": {},
   "outputs": [
    {
     "name": "stdout",
     "output_type": "stream",
     "text": [
      "(2, 3)\n",
      "1 2 4\n"
     ]
    }
   ],
   "source": [
    "print(b.shape) #각 배열의 차원 크기 \n",
    "print(b[0,0], b[0,1],b[1,0])  #인덱싱예제"
   ]
  },
  {
   "cell_type": "markdown",
   "id": "043e0e05",
   "metadata": {},
   "source": [
    "Numpy는 array함수 외에 배열을 생성하기 위한 다양한 방법 제공 "
   ]
  },
  {
   "cell_type": "code",
   "execution_count": 7,
   "id": "317ad806",
   "metadata": {},
   "outputs": [
    {
     "name": "stdout",
     "output_type": "stream",
     "text": [
      "[[0. 0. 0.]\n",
      " [0. 0. 0.]]\n"
     ]
    }
   ],
   "source": [
    "a= np.zeros((2,3)) # 값이 모두 0인 배열 생성, 매개변수는 원하는 shape\n",
    "print(a)"
   ]
  },
  {
   "cell_type": "code",
   "execution_count": 8,
   "id": "a54b7ab2",
   "metadata": {},
   "outputs": [
    {
     "name": "stdout",
     "output_type": "stream",
     "text": [
      "[[1. 1. 1. 1.]\n",
      " [1. 1. 1. 1.]\n",
      " [1. 1. 1. 1.]]\n"
     ]
    }
   ],
   "source": [
    "b = np.ones((3,4)) # 값이 모두 1인 배열 생성\n",
    "print(b)"
   ]
  },
  {
   "cell_type": "code",
   "execution_count": 9,
   "id": "f5f91e70",
   "metadata": {},
   "outputs": [
    {
     "name": "stdout",
     "output_type": "stream",
     "text": [
      "[[7 7 7 7]\n",
      " [7 7 7 7]]\n"
     ]
    }
   ],
   "source": [
    "c = np.full((2, 4), 7) # 모든 원소가 원하는 값으로 초기화된 배열 생성\n",
    "print(c)"
   ]
  },
  {
   "cell_type": "code",
   "execution_count": 10,
   "id": "a92dc155",
   "metadata": {},
   "outputs": [
    {
     "name": "stdout",
     "output_type": "stream",
     "text": [
      "[[0.28345859 0.00700788 0.8797161  0.70929588]\n",
      " [0.84874972 0.79074433 0.92306677 0.9844887 ]]\n"
     ]
    }
   ],
   "source": [
    "e = np.random.random((2,4)) # 무작위값으로 이루어진 배열 생성\n",
    "print(e)"
   ]
  },
  {
   "cell_type": "markdown",
   "id": "27264dfa",
   "metadata": {},
   "source": [
    "# 배열 인덱싱(Array indexing)\n",
    "\n",
    "## 슬라이싱(Slicing) \n",
    ": 파이썬 리스트와 유사하게 배열도 슬라이싱이 가능하다.  \n",
    "ndarray 는 다차원 배열 이므로 각 차원에 대해 슬라이싱 가능."
   ]
  },
  {
   "cell_type": "code",
   "execution_count": 2,
   "id": "63a56368",
   "metadata": {},
   "outputs": [
    {
     "name": "stdout",
     "output_type": "stream",
     "text": [
      "[[2 3]\n",
      " [6 7]]\n",
      "[[ 2  3]\n",
      " [ 6  7]\n",
      " [10 11]]\n"
     ]
    }
   ],
   "source": [
    "import numpy as np\n",
    "# shape가 (3, 4)이고 아래와 같은 값을 갖는 2차원 배열을 생성\n",
    "# [[ 1  2  3  4]\n",
    "#  [ 5  6  7  8]\n",
    "#  [ 9 10 11 12]]\n",
    "a = np.array([[1,2,3,4], [5,6,7,8], [9,10,11,12]])\n",
    "\n",
    "# 아래와 같은 일부를 뽑아내고 싶다면?\n",
    "# [[2 3]\n",
    "#  [6 7]]\n",
    "#        0열 1열 2열 3열\n",
    "# 0행 [[ 1   2   3   4]\n",
    "# 1행  [ 5   6   7   8]\n",
    "# 2행  [ 9  10  11  12]]\n",
    "\n",
    "b = a[:2,1:3] # 앞이 행, 뒤가 열 \n",
    "print(b)\n",
    "c = a[:3, 1:3]\n",
    "print(c)"
   ]
  },
  {
   "cell_type": "markdown",
   "id": "818f070c",
   "metadata": {},
   "source": [
    "#### 주의할 점 \n",
    "수정할 경우 원래의 배열도 값이 변경된다."
   ]
  },
  {
   "cell_type": "code",
   "execution_count": 18,
   "id": "8be4eac6",
   "metadata": {},
   "outputs": [
    {
     "name": "stdout",
     "output_type": "stream",
     "text": [
      "2\n",
      "[[77  3]\n",
      " [ 6  7]\n",
      " [10 11]]\n",
      "[[ 1 77  3  4]\n",
      " [ 5  6  7  8]\n",
      " [ 9 10 11 12]]\n"
     ]
    }
   ],
   "source": [
    "print(a[0, 1])\n",
    "b[0, 0] = 77    # b[0, 0] is the same piece of data as a[0, 1]\n",
    "print(b)\n",
    "print(a)"
   ]
  },
  {
   "cell_type": "markdown",
   "id": "d098635b",
   "metadata": {},
   "source": [
    "만일 값을 복사해서 새로운 배열을 만들고 싶으면 copy() 함수를 사용"
   ]
  },
  {
   "cell_type": "code",
   "execution_count": 19,
   "id": "c5c9885b",
   "metadata": {},
   "outputs": [
    {
     "name": "stdout",
     "output_type": "stream",
     "text": [
      "[[55  3]\n",
      " [ 6  7]\n",
      " [10 11]]\n",
      "[[77  3]\n",
      " [ 6  7]\n",
      " [10 11]]\n"
     ]
    }
   ],
   "source": [
    "c = b.copy()\n",
    "c[0, 0] = 55\n",
    "print(c)\n",
    "print(b)"
   ]
  },
  {
   "cell_type": "markdown",
   "id": "98da18d3",
   "metadata": {},
   "source": [
    "정수 인덱싱과 슬라이스 인덱싱 섞어서 사용 가능"
   ]
  },
  {
   "cell_type": "code",
   "execution_count": 21,
   "id": "a23665e7",
   "metadata": {},
   "outputs": [
    {
     "name": "stdout",
     "output_type": "stream",
     "text": [
      "[[ 1  2  3  4]\n",
      " [ 5  6  7  8]\n",
      " [ 9 10 11 12]] (3, 4)\n"
     ]
    }
   ],
   "source": [
    "a = np.array([[1,2,3,4], [5,6,7,8], [9,10,11,12]])\n",
    "print(a, a.shape)"
   ]
  },
  {
   "cell_type": "markdown",
   "id": "d2a94486",
   "metadata": {},
   "source": [
    "정수 인덱싱과 슬라이싱을 섞어서 쓰는 경우 차원이 감소할 수 있다.  \n",
    "슬라이싱만 쓰는 경우는 차원 유지.  \n",
    "(차원은 shape 이므로, 차원이 감소되었는지 유지되었는지는 shape를 보면 알 수 있음)"
   ]
  },
  {
   "cell_type": "code",
   "execution_count": 6,
   "id": "59d4c950",
   "metadata": {},
   "outputs": [
    {
     "name": "stdout",
     "output_type": "stream",
     "text": [
      "[1 2 3 4] (4,)\n"
     ]
    }
   ],
   "source": [
    "# 정수 인덱싱과 슬라이싱을 섞어서 사용하는 경우 \n",
    "row_r1 = a[0, :]    # 차원이 감소되는 것에 주의  \n",
    "print(row_r1, row_r1.shape)"
   ]
  },
  {
   "cell_type": "code",
   "execution_count": 7,
   "id": "acaa3413",
   "metadata": {},
   "outputs": [
    {
     "name": "stdout",
     "output_type": "stream",
     "text": [
      "[[5 6 7 8]] (1, 4)\n"
     ]
    }
   ],
   "source": [
    "# 슬라이싱과 슬라이싱을 함께 사용하는 경우\n",
    "row_r2 = a[1:2, :]  # 차원 유지됨\n",
    "print(row_r2, row_r2.shape)"
   ]
  },
  {
   "cell_type": "code",
   "execution_count": 8,
   "id": "8de16efa",
   "metadata": {},
   "outputs": [
    {
     "name": "stdout",
     "output_type": "stream",
     "text": [
      "[ 2  6 10] (3,)\n",
      "[[ 2]\n",
      " [ 6]\n",
      " [10]] (3, 1)\n"
     ]
    }
   ],
   "source": [
    "# 컬럼만 잘라낼 때에도 마찬가지:\n",
    "col_r1 = a[:, 1]\n",
    "col_r2 = a[:, 1:2]\n",
    "print(col_r1, col_r1.shape)\n",
    "print(col_r2, col_r2.shape)"
   ]
  },
  {
   "cell_type": "markdown",
   "id": "54010750",
   "metadata": {},
   "source": [
    "## 정수 배열을 이용한 인덱싱\n",
    ": 슬라이싱을 사용하는 경우 결과는 항상 원래 배열의 서브 배열이 된다. 반면, 정수 배열을 이용하면 임의로 변경하는 것이 가능하다."
   ]
  },
  {
   "cell_type": "code",
   "execution_count": 8,
   "id": "498391a7",
   "metadata": {},
   "outputs": [
    {
     "name": "stdout",
     "output_type": "stream",
     "text": [
      "[[1 2]\n",
      " [3 4]\n",
      " [5 6]] (3, 2)\n",
      "[1 4 5]\n",
      "[1 4 5]\n"
     ]
    }
   ],
   "source": [
    " a= np.array([[1,2],[3,4],[5,6]])\n",
    "print(a,a.shape)\n",
    "# 정수 배열 인덱싱의 예.\n",
    "# 반환된 배열의 shape는 (3,)\n",
    "print(a[[0 , 1, 2],[0, 1, 0]])\n",
    "\n",
    "# 위 방식은 아래 방식과 동일한 결과를 나타냄 \n",
    "print(np.array([a[0, 0],a[1, 1],a[2, 0]]))\n"
   ]
  },
  {
   "cell_type": "code",
   "execution_count": 12,
   "id": "def30764",
   "metadata": {},
   "outputs": [
    {
     "name": "stdout",
     "output_type": "stream",
     "text": [
      "[2 2]\n",
      "[2 2]\n"
     ]
    }
   ],
   "source": [
    "# 정수 배열 인덱싱 시 같은 요소를 가져오게 할 수도 있음\n",
    "print(a[[0,0],[1,1]])\n",
    "# 아래 예제와 동일 \n",
    "print(np.array([a[0,1],a[0,1]]))"
   ]
  },
  {
   "cell_type": "markdown",
   "id": "6b6a7c7d",
   "metadata": {},
   "source": [
    "정수 배열 인덱싱은 각각 행/열에서 원하는 요소만 가져오고 싶을 때 유용하게 사용 가능"
   ]
  },
  {
   "cell_type": "code",
   "execution_count": 13,
   "id": "7adc9b66",
   "metadata": {},
   "outputs": [
    {
     "name": "stdout",
     "output_type": "stream",
     "text": [
      "[[ 1  2  3]\n",
      " [ 4  5  6]\n",
      " [ 7  8  9]\n",
      " [10 11 12]]\n"
     ]
    }
   ],
   "source": [
    "a = np.array([[1,2,3], [4,5,6], [7,8,9], [10, 11, 12]])\n",
    "print(a)"
   ]
  },
  {
   "cell_type": "code",
   "execution_count": 16,
   "id": "6edcc8a7",
   "metadata": {},
   "outputs": [
    {
     "name": "stdout",
     "output_type": "stream",
     "text": [
      "[0 1 2 3]\n",
      "range(0, 4)\n"
     ]
    }
   ],
   "source": [
    "#np.arange는 range와 다르게 ndarray 형태로 모든 값 생성 \n",
    "print(np.arange(4))\n",
    "print(range(4))"
   ]
  },
  {
   "cell_type": "code",
   "execution_count": 17,
   "id": "5b5f3d6c",
   "metadata": {},
   "outputs": [
    {
     "name": "stdout",
     "output_type": "stream",
     "text": [
      "[ 1  6  7 11]\n"
     ]
    }
   ],
   "source": [
    "#정수 배열 선언\n",
    "b =  np.array([0, 2, 0, 1])\n",
    "#b의 각 행에서 위 배열에 해당하는 열의 값 가져오기\n",
    "print(a[np.arange(4),b])"
   ]
  },
  {
   "cell_type": "code",
   "execution_count": 18,
   "id": "44f0fa71",
   "metadata": {
    "scrolled": true
   },
   "outputs": [
    {
     "name": "stdout",
     "output_type": "stream",
     "text": [
      "[[11  2  3]\n",
      " [ 4  5 16]\n",
      " [17  8  9]\n",
      " [10 21 12]]\n"
     ]
    }
   ],
   "source": [
    "# b의 각 행에서 위 배열에 해당하는 열의 값에만 10을 더하고 싶다면?\n",
    "a[np.arange(4),b]+=10\n",
    "print(a)"
   ]
  },
  {
   "cell_type": "markdown",
   "id": "39908193",
   "metadata": {},
   "source": [
    "## 불리안 배열 인덱싱 \n",
    ": 배열에서 원하는 요소들만 추출 가능. 특정 조건을 만족하는 요소들만 골라내고자 하는 경우 자주 사용됨."
   ]
  },
  {
   "cell_type": "code",
   "execution_count": 19,
   "id": "a6250e6e",
   "metadata": {},
   "outputs": [
    {
     "data": {
      "text/plain": [
       "array([False, False, False,  True,  True,  True])"
      ]
     },
     "execution_count": 19,
     "metadata": {},
     "output_type": "execute_result"
    }
   ],
   "source": [
    "bb = np.array([1,2,3,4,5,6])\n",
    "\n",
    "#ndarray 중 벡터에 대한 비교 연산자 적용 결과\n",
    "bb>3\n"
   ]
  },
  {
   "cell_type": "code",
   "execution_count": 21,
   "id": "94a98533",
   "metadata": {},
   "outputs": [
    {
     "data": {
      "text/plain": [
       "array([4, 5, 6])"
      ]
     },
     "execution_count": 21,
     "metadata": {},
     "output_type": "execute_result"
    }
   ],
   "source": [
    "bb[bb>3] #bb값 중에서 3보다 큰 값만 반환"
   ]
  },
  {
   "cell_type": "code",
   "execution_count": 22,
   "id": "b4a1b377",
   "metadata": {},
   "outputs": [
    {
     "name": "stdout",
     "output_type": "stream",
     "text": [
      "[[False False]\n",
      " [ True  True]\n",
      " [ True  True]]\n"
     ]
    }
   ],
   "source": [
    "# 행렬에 대한 불리안 인덱싱 결과 확인\n",
    "a = np.array([[1,2],[3,4],[5,6]])\n",
    "\n",
    "bool_idx=(a > 2)# 배열의 개별적인 요소에 대해서 2보다 큰지를 True/False 배열로 반환\n",
    "\n",
    "print(bool_idx)"
   ]
  },
  {
   "cell_type": "code",
   "execution_count": 23,
   "id": "372b67d1",
   "metadata": {},
   "outputs": [
    {
     "name": "stdout",
     "output_type": "stream",
     "text": [
      "[3 4 5 6]\n",
      "[3 4 5 6]\n"
     ]
    }
   ],
   "source": [
    "# 불리안 배열의 값이 true 인 요소들만 반환\n",
    "print(a[bool_idx])\n",
    "\n",
    "#아래와 같이 줄여서 사용 가능 \n",
    "print(a[a > 2])"
   ]
  }
 ],
 "metadata": {
  "kernelspec": {
   "display_name": "Python 3",
   "language": "python",
   "name": "python3"
  },
  "language_info": {
   "codemirror_mode": {
    "name": "ipython",
    "version": 3
   },
   "file_extension": ".py",
   "mimetype": "text/x-python",
   "name": "python",
   "nbconvert_exporter": "python",
   "pygments_lexer": "ipython3",
   "version": "3.8.8"
  }
 },
 "nbformat": 4,
 "nbformat_minor": 5
}
